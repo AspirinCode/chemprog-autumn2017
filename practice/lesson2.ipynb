{
 "cells": [
  {
   "cell_type": "markdown",
   "metadata": {},
   "source": [
    "# Python, второе практическое занятие\n",
    "1. Тернарный условный оператор\n",
    "2. Цикл while\n",
    "3. Цикл for\n",
    "4. Функции\n",
    "5. Дополнительные материалы"
   ]
  },
  {
   "cell_type": "markdown",
   "metadata": {},
   "source": [
    "## 1. Тернарный условный оператор\n",
    "Кроме обычного условного выражения, в Python, подобно многим другим языкам, существует возможность записывать условные выражения в *тернарном* виде. Этот способ подходит только для коротких выражений, но при этом позволяет компактно записывать код:"
   ]
  },
  {
   "cell_type": "code",
   "execution_count": 1,
   "metadata": {},
   "outputs": [
    {
     "name": "stdout",
     "output_type": "stream",
     "text": [
      "State: awesome\n",
      "The weather is unpleasant today.\n"
     ]
    }
   ],
   "source": [
    "is_good = True\n",
    "state = 'awesome' if is_good else 'awful'\n",
    "print('State: {}'.format(state))\n",
    "is_rainy = True\n",
    "print('The weather is {} today.'.format('unpleasant' if is_rainy else 'wonderful'))"
   ]
  },
  {
   "cell_type": "markdown",
   "metadata": {},
   "source": [
    "Оператор **elif** в тернарном виде не предусмотрен, но это не является ограничением, т.к. **else** всегда можно продолжить другим тернарным оператором:"
   ]
  },
  {
   "cell_type": "code",
   "execution_count": 2,
   "metadata": {},
   "outputs": [
    {
     "name": "stdout",
     "output_type": "stream",
     "text": [
      "a <= b, a <= c\n"
     ]
    }
   ],
   "source": [
    "a = 2\n",
    "b = 4\n",
    "c = 6\n",
    "print('a > b' if a > b else ('a > c' if a > c else 'a <= b, a <= c'))"
   ]
  },
  {
   "cell_type": "markdown",
   "metadata": {},
   "source": [
    "(Скобки после первого **else** в примере выше можно пропустить, т.к. они приведены, чтобы выделить второй тернарный оператор.)"
   ]
  },
  {
   "cell_type": "markdown",
   "metadata": {},
   "source": [
    "## 2. Цикл while\n",
    "Цикл **while** в Python представляет собой классический примере *цикла с предусловием* (когда условие проверяется перед входом в цикл). Например:"
   ]
  },
  {
   "cell_type": "code",
   "execution_count": 3,
   "metadata": {},
   "outputs": [
    {
     "name": "stdout",
     "output_type": "stream",
     "text": [
      "0\n",
      "1\n",
      "2\n",
      "3\n",
      "4\n"
     ]
    }
   ],
   "source": [
    "i = 0\n",
    "while i < 5:\n",
    "    print(i)\n",
    "    i = i + 1"
   ]
  },
  {
   "cell_type": "markdown",
   "metadata": {},
   "source": [
    "## 3. Цикл for\n",
    "Цикл **for** позволяет работать с любыми итерируемыми объектами. В данном занятии рассмотрим его применение на изученных структурах -- список, кортеж, строка, словарь (ассоциативный список):"
   ]
  },
  {
   "cell_type": "code",
   "execution_count": 4,
   "metadata": {},
   "outputs": [
    {
     "name": "stdout",
     "output_type": "stream",
     "text": [
      "0\n",
      "1\n",
      "2\n",
      "3\n",
      "4\n",
      "-----\n",
      "0\n",
      "1\n",
      "2\n",
      "3\n",
      "4\n",
      "-----\n",
      "h\n",
      "e\n",
      "l\n",
      "l\n",
      "o\n",
      "-----\n",
      "('key3', 2)\n",
      "('key2', 1)\n",
      "('key1', 0)\n",
      "('key5', 4)\n",
      "('key4', 3)\n",
      "-----\n"
     ]
    }
   ],
   "source": [
    "# цикл по списку\n",
    "for x in [0, 1, 2, 3, 4]:\n",
    "    print(x)\n",
    "print('-----')\n",
    "# цикл по кортежу\n",
    "for i in (0, 1, 2, 3, 4):\n",
    "    print(i)\n",
    "print('-----')\n",
    "# цикл по строке\n",
    "for ch in 'hello':\n",
    "    print(ch)\n",
    "print('-----')\n",
    "# цикл по словарю\n",
    "d = {'key1': 0, 'key2': 1, 'key3': 2, 'key4': 3, 'key5': 4}\n",
    "for k in d:\n",
    "    print(k, d[k])\n",
    "print('-----')"
   ]
  },
  {
   "cell_type": "markdown",
   "metadata": {},
   "source": [
    "## 4. Функции\n",
    "Назначение функций в Python такое же, как в других языках программирования:\n",
    "\n",
    "- запись набора команд/алгоритма под специальным именем (возможно, с набором аргументов)\n",
    "\n",
    "- вызов в требуемом месте программы\n",
    "\n",
    "- структуризация кода."
   ]
  },
  {
   "cell_type": "code",
   "execution_count": 5,
   "metadata": {},
   "outputs": [
    {
     "name": "stdout",
     "output_type": "stream",
     "text": [
      "0\n",
      "1\n",
      "2\n",
      "3\n",
      "4\n"
     ]
    }
   ],
   "source": [
    "def print_n_vals(n):\n",
    "    '''Распечатывает первые n целых чисел.'''\n",
    "    i = 0\n",
    "    while i < n:\n",
    "        print(i)\n",
    "        i = i + 1\n",
    "        \n",
    "    \n",
    "print_n_vals(5)"
   ]
  },
  {
   "cell_type": "code",
   "execution_count": 6,
   "metadata": {},
   "outputs": [
    {
     "name": "stdout",
     "output_type": "stream",
     "text": [
      "[0, 1, 2, 3, 4]\n"
     ]
    }
   ],
   "source": [
    "def get_n_vals(n):\n",
    "    '''Возвращает первые n целых чисел в списке.'''\n",
    "    res = []\n",
    "    i = 0\n",
    "    while i < n:\n",
    "        res.append(i)\n",
    "        i = i + 1\n",
    "    return res\n",
    "\n",
    "\n",
    "result = get_n_vals(5)\n",
    "print(result)"
   ]
  },
  {
   "cell_type": "markdown",
   "metadata": {},
   "source": [
    "### 4a. Примеры\n",
    "В функциях можно указывать значения по умолчанию. Это удобно в двух случаях:\n",
    "- вам известно, что большую часть времени функция будет вызываться с одним и тем же значением; таким образом, выбор этого значения по умолчанию позволит сделать код более компактным\n",
    "- вам потребовалось внести дополнительные аргументы в функцию, но при этом не хочется затрагивать код, в котором она уже используется; тогда нужно просто дописать новые аргументы со значениями по умолчанию и переписать реализацию функции с учётом новых изменений, при этом в остальной части кода функция продолжит работать, как и раньше!"
   ]
  },
  {
   "cell_type": "code",
   "execution_count": 7,
   "metadata": {},
   "outputs": [
    {
     "name": "stdout",
     "output_type": "stream",
     "text": [
      "9\n",
      "6\n"
     ]
    }
   ],
   "source": [
    "def prod(a, b=2):\n",
    "    '''Возвращает произведение двух чисел.'''\n",
    "    result = a * b\n",
    "    return result\n",
    "\n",
    "\n",
    "print(prod(3, 3))\n",
    "print(prod(3))"
   ]
  },
  {
   "cell_type": "markdown",
   "metadata": {},
   "source": [
    "Если у функции несколько параметров по умолчанию, при вызове можно менять их порядок, обращаясь непосредственно по имени:"
   ]
  },
  {
   "cell_type": "code",
   "execution_count": 8,
   "metadata": {},
   "outputs": [
    {
     "name": "stdout",
     "output_type": "stream",
     "text": [
      "24\n",
      "168\n"
     ]
    }
   ],
   "source": [
    "def prod3(a, b=2, c=3):\n",
    "    '''Возвращает произведение трёх чисел.'''\n",
    "    result = a * b * c\n",
    "    return result\n",
    "\n",
    "\n",
    "print(prod3(4))\n",
    "print(prod3(4, c=7, b=6))"
   ]
  },
  {
   "cell_type": "markdown",
   "metadata": {},
   "source": [
    "### 4b. Примеры\n",
    "В Python у функций есть несколько любопытных особенностей: \n",
    "- функции могут быть вложены друг в друга\n",
    "- функции могут возвращать другие функции в качестве результата.\n",
    "\n",
    "Рассмотрим эти две опции в одном примере:"
   ]
  },
  {
   "cell_type": "code",
   "execution_count": 9,
   "metadata": {},
   "outputs": [
    {
     "name": "stdout",
     "output_type": "stream",
     "text": [
      "30\n",
      "12\n"
     ]
    }
   ],
   "source": [
    "def create_multiplier(x):\n",
    "    '''\n",
    "    Функция от одного аргумента x,\n",
    "    которая возвращает функцию,\n",
    "    умножающую свой аргумент на x.\n",
    "    '''\n",
    "    def multiplier(n):\n",
    "        '''\n",
    "        Параметр x является \"глобальным\",\n",
    "        следовательно, его можно использовать\n",
    "        в этой вложенной функции.\n",
    "        '''\n",
    "        return x * n\n",
    "    \n",
    "    return multiplier\n",
    "\n",
    "\n",
    "fmult5 = create_multiplier(5)   # получили функцию, умножающую всё на 5\n",
    "print(fmult5(6))\n",
    "print(create_multiplier(3)(4))  # получили функцию, умножающую всё на 3 и сразу применили её к 4"
   ]
  },
  {
   "cell_type": "markdown",
   "metadata": {},
   "source": [
    "Другой интересной особенностью Python является то, что функции можно передавать в качестве аргументов в другие функции:"
   ]
  },
  {
   "cell_type": "code",
   "execution_count": 10,
   "metadata": {},
   "outputs": [
    {
     "name": "stdout",
     "output_type": "stream",
     "text": [
      "8\n",
      "[1, 2, 3, 4, 5]\n",
      "hellokitty\n",
      "24\n"
     ]
    }
   ],
   "source": [
    "# пример с лекции\n",
    "def apply(f, a, b):\n",
    "    '''\n",
    "    f - некоторая функция, \n",
    "    a и b - её аргументы.\n",
    "    '''\n",
    "    return f(a, b)\n",
    "\n",
    "\n",
    "def add(x, y):\n",
    "    result = x + y\n",
    "    return result\n",
    "\n",
    "\n",
    "def prod(x, y):\n",
    "    result = x * y\n",
    "    return result\n",
    "\n",
    "\n",
    "print(apply(add, 5, 3))\n",
    "print(apply(add, [1, 2, 3], [4, 5]))\n",
    "print(apply(add, 'hello', 'kitty'))\n",
    "print(apply(prod, 4, 6))"
   ]
  },
  {
   "cell_type": "markdown",
   "metadata": {},
   "source": [
    "### 4c. Примеры\n",
    "Другая важная возможность Python - переменное число параметров. Параметры можно передавать как в виде списка, так и в виде словаря:"
   ]
  },
  {
   "cell_type": "code",
   "execution_count": 11,
   "metadata": {},
   "outputs": [
    {
     "name": "stdout",
     "output_type": "stream",
     "text": [
      "Аргументы (список): (1, 2, 3)\n",
      "Аргументы (словарь): {'a': 4, 'b': 5}\n",
      "Результат: 25\n"
     ]
    }
   ],
   "source": [
    "def calculate_sum(n, m, *numbers, **kwargs):\n",
    "    print('Аргументы (список): {}'.format(numbers))\n",
    "    print('Аргументы (словарь): {}'.format(kwargs))\n",
    "    result = 0\n",
    "    result = result + n\n",
    "    for num in numbers:\n",
    "        result = result + num\n",
    "    for k in kwargs:\n",
    "        result = result + kwargs[k]\n",
    "    return result\n",
    "        \n",
    "        \n",
    "print('Результат: {}'.format(calculate_sum(10, 1, 2, 3, a=4, b=5)))"
   ]
  },
  {
   "cell_type": "markdown",
   "metadata": {},
   "source": [
    "Параметры **m** и **n** называют *формальными* параметрами, параметр **numbers** поступает в функцию в виде *списка*, параметр **kwargs** поступает в функцию в виде *словаря*."
   ]
  },
  {
   "cell_type": "markdown",
   "metadata": {},
   "source": [
    "### 4d. Функция range "
   ]
  },
  {
   "cell_type": "markdown",
   "metadata": {},
   "source": [
    "**range** - специальная функция, позволяющая получать последовательности целых чисел аналогично операции вырезки (slicing), изученной на предыдущем занятии. Её синтаксис аналогичен вырезке:\n",
    "\n",
    "**range(start, end, step)**\n",
    "\n",
    "где **start** - начало последовательности, **end** - конец, **step** - шаг.\n",
    "В отличие от вырезки, функция range не привязана к какому-либо списку, таким образом, нужно указывать хотя бы обязательный параметр **end** (параметры **start** и **step** по умолчанию равны 0 и 1 соответственно):"
   ]
  },
  {
   "cell_type": "code",
   "execution_count": 12,
   "metadata": {},
   "outputs": [
    {
     "name": "stdout",
     "output_type": "stream",
     "text": [
      "[0, 1, 2, 3, 4, 5, 6, 7, 8, 9]\n",
      "[0, 1, 2, 3, 4, 5, 6, 7, 8, 9]\n",
      "[0, -2, -4, -6, -8, -10, -12, -14]\n"
     ]
    }
   ],
   "source": [
    "print(range(0, 10, 1))    # последовательность целых чисел от 0 до 9\n",
    "print(range(10))          # тот же результат, но с параметрами по умолчанию\n",
    "print(range(0, -15, -2))  # пример с отрицательным шагом"
   ]
  },
  {
   "cell_type": "markdown",
   "metadata": {},
   "source": [
    "## 5. Дополнительные материалы\n",
    "Разобранный материал примерно соответствует главам книги \"A byte of Python\":\n",
    "- Поток команд (9)\n",
    "- Функции (10)"
   ]
  },
  {
   "cell_type": "markdown",
   "metadata": {
    "collapsed": true
   },
   "source": [
    "**(Бонус)** Пример реализации функции **sum** (сумма элементов списка):"
   ]
  },
  {
   "cell_type": "code",
   "execution_count": 13,
   "metadata": {},
   "outputs": [
    {
     "name": "stdout",
     "output_type": "stream",
     "text": [
      "Original function result: 22.777\n",
      "Self-made function result: 22.777\n"
     ]
    }
   ],
   "source": [
    "def sum2(x):\n",
    "    s = 0\n",
    "    for value in x:\n",
    "        s = s + value\n",
    "    return s\n",
    "\n",
    "\n",
    "xlist = [1, True, False, 10, 10.777]\n",
    "print('Original function result: {}'.format(sum(xlist)))\n",
    "print('Self-made function result: {}'.format(sum2(xlist)))"
   ]
  },
  {
   "cell_type": "code",
   "execution_count": null,
   "metadata": {
    "collapsed": true
   },
   "outputs": [],
   "source": []
  }
 ],
 "metadata": {
  "kernelspec": {
   "display_name": "Python 2",
   "language": "python",
   "name": "python2"
  },
  "language_info": {
   "codemirror_mode": {
    "name": "ipython",
    "version": 2
   },
   "file_extension": ".py",
   "mimetype": "text/x-python",
   "name": "python",
   "nbconvert_exporter": "python",
   "pygments_lexer": "ipython2",
   "version": "2.7.13"
  }
 },
 "nbformat": 4,
 "nbformat_minor": 2
}
