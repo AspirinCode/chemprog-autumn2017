{
 "cells": [
  {
   "cell_type": "markdown",
   "metadata": {},
   "source": [
    "# Алгоритмы в хемоинформатике, первое занятие\n",
    "1. Модули Python для работы с графами, модуль networkx\n",
    "2. Пример направленного графа (класс Digraph)\n",
    "3. Пример ненаправленного графа (класс Graph)\n",
    "4. Задачи\n",
    "5. Документация"
   ]
  },
  {
   "cell_type": "markdown",
   "metadata": {},
   "source": [
    "## 1. Модули Python для работы с графами\n",
    "В Python есть несколько библиотек, реализующих функционал для работы с графами: **networkx**, **igraph**, **python-graph** и многие другие. Мы будем пользоваться модулем **networkx**, так как в нём представлено много алгоритмов."
   ]
  },
  {
   "cell_type": "code",
   "execution_count": 1,
   "metadata": {
    "collapsed": true
   },
   "outputs": [],
   "source": [
    "import matplotlib.pyplot as plt      # для отрисовки иллюстраций графов;\n",
    "                                     # если модуль не установлен, следует закомментировать строки,\n",
    "                                     # в которых он используется\n",
    "\n",
    "import networkx as nx                # загрузить всё содержимое модуля (потребуются некоторые функции)\n",
    "from networkx import Graph, DiGraph  # загрузить только классы ненаправленных/направленных графов"
   ]
  },
  {
   "cell_type": "markdown",
   "metadata": {},
   "source": [
    "## 2. Пример направленного графа"
   ]
  },
  {
   "cell_type": "code",
   "execution_count": 2,
   "metadata": {
    "collapsed": true
   },
   "outputs": [],
   "source": [
    "digraph = DiGraph()"
   ]
  },
  {
   "cell_type": "markdown",
   "metadata": {},
   "source": [
    "Это пустой граф, в нём ничего нет. Добавим вершины:"
   ]
  },
  {
   "cell_type": "code",
   "execution_count": 3,
   "metadata": {
    "collapsed": true
   },
   "outputs": [],
   "source": [
    "for node_val in range(1, 8):\n",
    "    digraph.add_node(node_val)"
   ]
  },
  {
   "cell_type": "markdown",
   "metadata": {},
   "source": [
    "Соединим какие-нибудь из них:"
   ]
  },
  {
   "cell_type": "code",
   "execution_count": 4,
   "metadata": {
    "collapsed": true
   },
   "outputs": [],
   "source": [
    "digraph.add_edge(1, 2)\n",
    "digraph.add_edge(1, 3)\n",
    "digraph.add_edge(1, 4)\n",
    "digraph.add_edge(2, 4)\n",
    "digraph.add_edge(2, 5)\n",
    "digraph.add_edge(3, 6)\n",
    "digraph.add_edge(4, 3)\n",
    "digraph.add_edge(4, 6)\n",
    "digraph.add_edge(4, 7)\n",
    "digraph.add_edge(5, 4)\n",
    "digraph.add_edge(5, 7)\n",
    "digraph.add_edge(7, 6)"
   ]
  },
  {
   "cell_type": "markdown",
   "metadata": {},
   "source": [
    "Есть специальные функции для вывода вершин, ребер, смежностей и степеней вершин:"
   ]
  },
  {
   "cell_type": "code",
   "execution_count": 5,
   "metadata": {},
   "outputs": [
    {
     "name": "stdout",
     "output_type": "stream",
     "text": [
      "[1, 2, 3, 4, 5, 6, 7]\n",
      "[(1, 2), (1, 3), (1, 4), (2, 4), (2, 5), (3, 6), (4, 3), (4, 6), (4, 7), (5, 4), (5, 7), (7, 6)]\n",
      "[2, 3, 4]\n",
      "3\n"
     ]
    }
   ],
   "source": [
    "print(digraph.nodes())\n",
    "print(digraph.edges())\n",
    "print(digraph.adj[1].keys())\n",
    "print(digraph.degree(1))"
   ]
  },
  {
   "cell_type": "markdown",
   "metadata": {},
   "source": [
    "Получим матрицу смежности. Функция *adjacency_matrix()* из модуля **networkx** вернёт разреженное представление матрицы (без нулей), чтобы получить полноценную матрицу, следует воспользоваться функцией *todense()* (применить к результату выполнения функции *adjacency_matrix()*):"
   ]
  },
  {
   "cell_type": "code",
   "execution_count": 6,
   "metadata": {},
   "outputs": [
    {
     "name": "stdout",
     "output_type": "stream",
     "text": [
      "[[0 1 1 1 0 0 0]\n",
      " [0 0 0 1 1 0 0]\n",
      " [0 0 0 0 0 1 0]\n",
      " [0 0 1 0 0 1 1]\n",
      " [0 0 0 1 0 0 1]\n",
      " [0 0 0 0 0 0 0]\n",
      " [0 0 0 0 0 1 0]]\n"
     ]
    }
   ],
   "source": [
    "adj_matrix_sparse = nx.adjacency_matrix(digraph)\n",
    "adj_matrix_dense = adj_matrix_sparse.todense()\n",
    "print(adj_matrix_dense)"
   ]
  },
  {
   "cell_type": "markdown",
   "metadata": {},
   "source": [
    "К элементам матрицы можно обращаться по индексу:"
   ]
  },
  {
   "cell_type": "code",
   "execution_count": 7,
   "metadata": {},
   "outputs": [
    {
     "name": "stdout",
     "output_type": "stream",
     "text": [
      "0\n",
      "1\n"
     ]
    }
   ],
   "source": [
    "print(adj_matrix_dense[0, 0])\n",
    "print(adj_matrix_dense[-1, -2])"
   ]
  },
  {
   "cell_type": "markdown",
   "metadata": {},
   "source": [
    "Можно получать отдельные строки/столбцы матрицы:"
   ]
  },
  {
   "cell_type": "code",
   "execution_count": 8,
   "metadata": {},
   "outputs": [
    {
     "name": "stdout",
     "output_type": "stream",
     "text": [
      "[[0 1 1 1 0 0 0]]\n",
      "[[0]\n",
      " [0]\n",
      " [0]\n",
      " [0]\n",
      " [0]\n",
      " [0]\n",
      " [0]]\n"
     ]
    }
   ],
   "source": [
    "print(adj_matrix_dense[0, :])\n",
    "print(adj_matrix_dense[:, 0])"
   ]
  },
  {
   "cell_type": "markdown",
   "metadata": {},
   "source": [
    "Получим список ребер:"
   ]
  },
  {
   "cell_type": "code",
   "execution_count": 9,
   "metadata": {},
   "outputs": [
    {
     "name": "stdout",
     "output_type": "stream",
     "text": [
      "[2, 3, 4]\n",
      "[4, 5]\n",
      "[6]\n",
      "[3, 6, 7]\n",
      "[4, 7]\n",
      "[]\n",
      "[6]\n"
     ]
    }
   ],
   "source": [
    "adj_list = digraph.adjacency_list()\n",
    "for adj_item in adj_list:\n",
    "    print(adj_item)"
   ]
  },
  {
   "cell_type": "markdown",
   "metadata": {},
   "source": [
    "Для каждой вершины от 1 до 8 получили список её соседей (вершины, в которые задано направление). Данное представление не очень наглядно, лучше вывести пары \"вершина-соседи\":"
   ]
  },
  {
   "cell_type": "code",
   "execution_count": 10,
   "metadata": {},
   "outputs": [
    {
     "name": "stdout",
     "output_type": "stream",
     "text": [
      "Vertice: 1, Neighbors: [2, 3, 4]\n",
      "Vertice: 2, Neighbors: [4, 5]\n",
      "Vertice: 3, Neighbors: [6]\n",
      "Vertice: 4, Neighbors: [3, 6, 7]\n",
      "Vertice: 5, Neighbors: [4, 7]\n",
      "Vertice: 6, Neighbors: []\n",
      "Vertice: 7, Neighbors: [6]\n"
     ]
    }
   ],
   "source": [
    "for pair in digraph.adjacency_iter():\n",
    "    print('Vertice: {}, Neighbors: {}'.format(pair[0], pair[1].keys()))"
   ]
  },
  {
   "cell_type": "markdown",
   "metadata": {},
   "source": [
    "Граф можно сохранить в файл. Доступно множество вариантов (см. документацию в разделе \"Reading and writing graphs\" модуля **networkx**), рассмотрим два из них: данные графа и иллюстрация:"
   ]
  },
  {
   "cell_type": "code",
   "execution_count": 11,
   "metadata": {
    "collapsed": true
   },
   "outputs": [],
   "source": [
    "# 1. данные графа в виде списка ребер\n",
    "nx.write_adjlist(digraph, '1_adjlist')\n",
    "# 2. данные графа в формате GML\n",
    "nx.write_gml(digraph, '2_gml')\n",
    "# 3. иллюстрация\n",
    "nx.draw_networkx(digraph)\n",
    "plt.axis('off')\n",
    "plt.savefig('3_picture.png')"
   ]
  },
  {
   "cell_type": "markdown",
   "metadata": {},
   "source": [
    "Если есть файл с данными графа, можно из него инициализировать новый объект графа:"
   ]
  },
  {
   "cell_type": "code",
   "execution_count": 12,
   "metadata": {},
   "outputs": [],
   "source": [
    "digraph3 = nx.read_gml('2_gml')"
   ]
  },
  {
   "cell_type": "markdown",
   "metadata": {},
   "source": [
    "Вершинам и ребрам графов можно присваивать атрибуты. Это удобно во многих приложениях -- например, в молекулярных графах вершина может хранить множество атрибутов: заряд, атомную массу, радиус ван-дер-Ваальса и т.д."
   ]
  },
  {
   "cell_type": "code",
   "execution_count": 13,
   "metadata": {
    "collapsed": true
   },
   "outputs": [],
   "source": [
    "digraph[1]['color'] = 'blue'\n",
    "digraph[1][2]['color'] = 'green'"
   ]
  },
  {
   "cell_type": "code",
   "execution_count": 14,
   "metadata": {},
   "outputs": [
    {
     "name": "stdout",
     "output_type": "stream",
     "text": [
      "blue\n",
      "green\n"
     ]
    }
   ],
   "source": [
    "print(digraph[1]['color'])\n",
    "print(digraph[1][2]['color'])"
   ]
  },
  {
   "cell_type": "markdown",
   "metadata": {},
   "source": [
    "# 3. Пример ненаправленного графа"
   ]
  },
  {
   "cell_type": "code",
   "execution_count": 15,
   "metadata": {
    "collapsed": true
   },
   "outputs": [],
   "source": [
    "graph = Graph()"
   ]
  },
  {
   "cell_type": "markdown",
   "metadata": {},
   "source": [
    "Добавим вершины и ребра:"
   ]
  },
  {
   "cell_type": "code",
   "execution_count": 16,
   "metadata": {
    "collapsed": true
   },
   "outputs": [],
   "source": [
    "for node_val in range(1, 7):\n",
    "    graph.add_node(node_val)\n",
    "graph.add_edge(1, 2)\n",
    "graph.add_edge(1, 5)\n",
    "graph.add_edge(2, 3)\n",
    "graph.add_edge(2, 5)\n",
    "graph.add_edge(3, 4)\n",
    "graph.add_edge(4, 5)\n",
    "graph.add_edge(4, 6)"
   ]
  },
  {
   "cell_type": "markdown",
   "metadata": {},
   "source": [
    "Выведем матрицу смежности:"
   ]
  },
  {
   "cell_type": "code",
   "execution_count": 17,
   "metadata": {},
   "outputs": [
    {
     "name": "stdout",
     "output_type": "stream",
     "text": [
      "[[0 1 1 1 0 0 0]\n",
      " [0 0 0 1 1 0 0]\n",
      " [0 0 0 0 0 1 0]\n",
      " [0 0 1 0 0 1 1]\n",
      " [0 0 0 1 0 0 1]\n",
      " [0 0 0 0 0 0 0]\n",
      " [0 0 0 0 0 1 0]]\n"
     ]
    }
   ],
   "source": [
    "adj_matrix_sparse = nx.adjacency_matrix(digraph)\n",
    "adj_matrix_dense = adj_matrix_sparse.todense()\n",
    "print(adj_matrix_dense)"
   ]
  },
  {
   "cell_type": "markdown",
   "metadata": {},
   "source": [
    "Список пар \"вершина/соседи\":"
   ]
  },
  {
   "cell_type": "code",
   "execution_count": 18,
   "metadata": {},
   "outputs": [
    {
     "name": "stdout",
     "output_type": "stream",
     "text": [
      "Vertice: 1, Neighbors: [2, 5]\n",
      "Vertice: 2, Neighbors: [1, 3, 5]\n",
      "Vertice: 3, Neighbors: [2, 4]\n",
      "Vertice: 4, Neighbors: [3, 5, 6]\n",
      "Vertice: 5, Neighbors: [1, 2, 4]\n",
      "Vertice: 6, Neighbors: [4]\n"
     ]
    }
   ],
   "source": [
    "for pair in graph.adjacency_iter():\n",
    "    print('Vertice: {}, Neighbors: {}'.format(pair[0], pair[1].keys()))"
   ]
  },
  {
   "cell_type": "markdown",
   "metadata": {},
   "source": [
    "## 4. Задачи\n",
    "A) Написать функцию умножения матриц (задаются в виде списка списков целых чисел). Вход -- две матрицы A и B, выход -- одна матрица (C = A * B). Внутри функции нужно проверить допустимость умножения данной пары матриц; если они не могут быть умножены, нужно выбросить исключение ValueError.\n",
    "\n",
    "B) Реализовать алгоритм BFS в виде функции (поиск кратчайшего пути от одной вершины до другой, краткую информацию можно посмотреть здесь: http://rosalind.info/problems/bfs/). Вход -- граф и индексы двух вершин i и j, выход -- расстояние между вершинами (0, если вершины совпадают, float('inf'), если нет пути из i в j).\n",
    "\n",
    "Реализовать следующие функции:\n",
    "1. Вычисление матрицы дистанций алгоритмом Флойда-Уоршела.\n",
    "2. Вычисление матрицы дистанций методом BFS.\n",
    "3. Вычисление матрицы дистанций методом возведения матрицы смежности в степень.\n",
    "Вход каждой функции -- граф (например, из модуля **networkx**), выход -- матрица дистанций (список списков целых чисел).\n",
    "\n",
    "Дополнительное задание: самостоятельно изучить функции .add_nodes_from и .add_edges_from объекта графа"
   ]
  },
  {
   "cell_type": "markdown",
   "metadata": {},
   "source": [
    "## 5. Документация\n",
    "- **networkx**: https://networkx.github.io/documentation/latest/tutorial.html\n",
    "\n",
    "- **matplotlib**: http://matplotlib.org/tutorials/index.html"
   ]
  },
  {
   "cell_type": "code",
   "execution_count": null,
   "metadata": {
    "collapsed": true
   },
   "outputs": [],
   "source": []
  }
 ],
 "metadata": {
  "kernelspec": {
   "display_name": "Python 2",
   "language": "python",
   "name": "python2"
  },
  "language_info": {
   "codemirror_mode": {
    "name": "ipython",
    "version": 2
   },
   "file_extension": ".py",
   "mimetype": "text/x-python",
   "name": "python",
   "nbconvert_exporter": "python",
   "pygments_lexer": "ipython2",
   "version": "2.7.13"
  }
 },
 "nbformat": 4,
 "nbformat_minor": 2
}
