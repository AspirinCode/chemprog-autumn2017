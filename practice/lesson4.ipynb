{
 "cells": [
  {
   "cell_type": "markdown",
   "metadata": {},
   "source": [
    "## Python, четвертое практическое занятие\n",
    "1. Исключения и их обработка\n",
    "2. Итераторы и генераторы\n",
    "3. Comprehensive Python\n",
    "4. Элементы функционального программирования: лямбда-выражения и функции высшего порядка"
   ]
  },
  {
   "cell_type": "markdown",
   "metadata": {},
   "source": [
    "## 1. Исключения и их обработка\n",
    "При выполнении программ могут возникать исключительные ситуации, которые надо уметь обрабатывать. Например, открытие несуществующего файла на чтение:"
   ]
  },
  {
   "cell_type": "code",
   "execution_count": 1,
   "metadata": {},
   "outputs": [
    {
     "ename": "IOError",
     "evalue": "[Errno 2] No such file or directory: 'does_not_exists'",
     "output_type": "error",
     "traceback": [
      "\u001b[0;31m---------------------------------------------------------------------------\u001b[0m",
      "\u001b[0;31mIOError\u001b[0m                                   Traceback (most recent call last)",
      "\u001b[0;32m<ipython-input-1-62d01c085ad8>\u001b[0m in \u001b[0;36m<module>\u001b[0;34m()\u001b[0m\n\u001b[0;32m----> 1\u001b[0;31m \u001b[0mf\u001b[0m \u001b[0;34m=\u001b[0m \u001b[0mopen\u001b[0m\u001b[0;34m(\u001b[0m\u001b[0;34m'does_not_exists'\u001b[0m\u001b[0;34m,\u001b[0m \u001b[0;34m'r'\u001b[0m\u001b[0;34m)\u001b[0m\u001b[0;34m\u001b[0m\u001b[0m\n\u001b[0m",
      "\u001b[0;31mIOError\u001b[0m: [Errno 2] No such file or directory: 'does_not_exists'"
     ]
    }
   ],
   "source": [
    "f = open('does_not_exists', 'r')"
   ]
  },
  {
   "cell_type": "markdown",
   "metadata": {},
   "source": [
    "Задача разработчика состоит в корректной идентификации таких случаев и их обработке. Например, если вы разрабатываете функцию, которая должна принимать два натуральных числа, можно инициировать исключение для неправильных аргументов:"
   ]
  },
  {
   "cell_type": "code",
   "execution_count": 2,
   "metadata": {
    "collapsed": true
   },
   "outputs": [],
   "source": [
    "def positive_product(x, y):\n",
    "    if not isinstance(x, int) or not isinstance(y, int):\n",
    "        raise TypeError('Arguments should be integers.')\n",
    "    if x <= 0 or y <= 0:\n",
    "        raise ValueError('Arguments should be positive.')\n",
    "    return x * y"
   ]
  },
  {
   "cell_type": "markdown",
   "metadata": {},
   "source": [
    "Тогда при вызове функции с некорректными параметрами будут происходить ошибки и выполнение программы завершится:"
   ]
  },
  {
   "cell_type": "code",
   "execution_count": 3,
   "metadata": {},
   "outputs": [
    {
     "ename": "TypeError",
     "evalue": "Arguments should be integers.",
     "output_type": "error",
     "traceback": [
      "\u001b[0;31m---------------------------------------------------------------------------\u001b[0m",
      "\u001b[0;31mTypeError\u001b[0m                                 Traceback (most recent call last)",
      "\u001b[0;32m<ipython-input-3-21e6bbd5ae2c>\u001b[0m in \u001b[0;36m<module>\u001b[0;34m()\u001b[0m\n\u001b[1;32m      1\u001b[0m \u001b[0;31m# первый аргумент не является числом\u001b[0m\u001b[0;34m\u001b[0m\u001b[0;34m\u001b[0m\u001b[0m\n\u001b[0;32m----> 2\u001b[0;31m \u001b[0mresult\u001b[0m \u001b[0;34m=\u001b[0m \u001b[0mpositive_product\u001b[0m\u001b[0;34m(\u001b[0m\u001b[0;34m'string'\u001b[0m\u001b[0;34m,\u001b[0m \u001b[0;36m5\u001b[0m\u001b[0;34m)\u001b[0m\u001b[0;34m\u001b[0m\u001b[0m\n\u001b[0m",
      "\u001b[0;32m<ipython-input-2-59d45fef1e8d>\u001b[0m in \u001b[0;36mpositive_product\u001b[0;34m(x, y)\u001b[0m\n\u001b[1;32m      1\u001b[0m \u001b[0;32mdef\u001b[0m \u001b[0mpositive_product\u001b[0m\u001b[0;34m(\u001b[0m\u001b[0mx\u001b[0m\u001b[0;34m,\u001b[0m \u001b[0my\u001b[0m\u001b[0;34m)\u001b[0m\u001b[0;34m:\u001b[0m\u001b[0;34m\u001b[0m\u001b[0m\n\u001b[1;32m      2\u001b[0m     \u001b[0;32mif\u001b[0m \u001b[0;32mnot\u001b[0m \u001b[0misinstance\u001b[0m\u001b[0;34m(\u001b[0m\u001b[0mx\u001b[0m\u001b[0;34m,\u001b[0m \u001b[0mint\u001b[0m\u001b[0;34m)\u001b[0m \u001b[0;32mor\u001b[0m \u001b[0;32mnot\u001b[0m \u001b[0misinstance\u001b[0m\u001b[0;34m(\u001b[0m\u001b[0my\u001b[0m\u001b[0;34m,\u001b[0m \u001b[0mint\u001b[0m\u001b[0;34m)\u001b[0m\u001b[0;34m:\u001b[0m\u001b[0;34m\u001b[0m\u001b[0m\n\u001b[0;32m----> 3\u001b[0;31m         \u001b[0;32mraise\u001b[0m \u001b[0mTypeError\u001b[0m\u001b[0;34m(\u001b[0m\u001b[0;34m'Arguments should be integers.'\u001b[0m\u001b[0;34m)\u001b[0m\u001b[0;34m\u001b[0m\u001b[0m\n\u001b[0m\u001b[1;32m      4\u001b[0m     \u001b[0;32mif\u001b[0m \u001b[0mx\u001b[0m \u001b[0;34m<=\u001b[0m \u001b[0;36m0\u001b[0m \u001b[0;32mor\u001b[0m \u001b[0my\u001b[0m \u001b[0;34m<=\u001b[0m \u001b[0;36m0\u001b[0m\u001b[0;34m:\u001b[0m\u001b[0;34m\u001b[0m\u001b[0m\n\u001b[1;32m      5\u001b[0m         \u001b[0;32mraise\u001b[0m \u001b[0mValueError\u001b[0m\u001b[0;34m(\u001b[0m\u001b[0;34m'Arguments should be positive.'\u001b[0m\u001b[0;34m)\u001b[0m\u001b[0;34m\u001b[0m\u001b[0m\n",
      "\u001b[0;31mTypeError\u001b[0m: Arguments should be integers."
     ]
    }
   ],
   "source": [
    "# первый аргумент не является числом\n",
    "result = positive_product('string', 5)"
   ]
  },
  {
   "cell_type": "code",
   "execution_count": 4,
   "metadata": {},
   "outputs": [
    {
     "ename": "ValueError",
     "evalue": "Arguments should be positive.",
     "output_type": "error",
     "traceback": [
      "\u001b[0;31m---------------------------------------------------------------------------\u001b[0m",
      "\u001b[0;31mValueError\u001b[0m                                Traceback (most recent call last)",
      "\u001b[0;32m<ipython-input-4-8128594195fe>\u001b[0m in \u001b[0;36m<module>\u001b[0;34m()\u001b[0m\n\u001b[1;32m      1\u001b[0m \u001b[0;31m# первый аргумент не является натуральным числом\u001b[0m\u001b[0;34m\u001b[0m\u001b[0;34m\u001b[0m\u001b[0m\n\u001b[0;32m----> 2\u001b[0;31m \u001b[0mresult\u001b[0m \u001b[0;34m=\u001b[0m \u001b[0mpositive_product\u001b[0m\u001b[0;34m(\u001b[0m\u001b[0;34m-\u001b[0m\u001b[0;36m3\u001b[0m\u001b[0;34m,\u001b[0m \u001b[0;36m1\u001b[0m\u001b[0;34m)\u001b[0m\u001b[0;34m\u001b[0m\u001b[0m\n\u001b[0m",
      "\u001b[0;32m<ipython-input-2-59d45fef1e8d>\u001b[0m in \u001b[0;36mpositive_product\u001b[0;34m(x, y)\u001b[0m\n\u001b[1;32m      3\u001b[0m         \u001b[0;32mraise\u001b[0m \u001b[0mTypeError\u001b[0m\u001b[0;34m(\u001b[0m\u001b[0;34m'Arguments should be integers.'\u001b[0m\u001b[0;34m)\u001b[0m\u001b[0;34m\u001b[0m\u001b[0m\n\u001b[1;32m      4\u001b[0m     \u001b[0;32mif\u001b[0m \u001b[0mx\u001b[0m \u001b[0;34m<=\u001b[0m \u001b[0;36m0\u001b[0m \u001b[0;32mor\u001b[0m \u001b[0my\u001b[0m \u001b[0;34m<=\u001b[0m \u001b[0;36m0\u001b[0m\u001b[0;34m:\u001b[0m\u001b[0;34m\u001b[0m\u001b[0m\n\u001b[0;32m----> 5\u001b[0;31m         \u001b[0;32mraise\u001b[0m \u001b[0mValueError\u001b[0m\u001b[0;34m(\u001b[0m\u001b[0;34m'Arguments should be positive.'\u001b[0m\u001b[0;34m)\u001b[0m\u001b[0;34m\u001b[0m\u001b[0m\n\u001b[0m\u001b[1;32m      6\u001b[0m     \u001b[0;32mreturn\u001b[0m \u001b[0mx\u001b[0m \u001b[0;34m*\u001b[0m \u001b[0my\u001b[0m\u001b[0;34m\u001b[0m\u001b[0m\n",
      "\u001b[0;31mValueError\u001b[0m: Arguments should be positive."
     ]
    }
   ],
   "source": [
    "# первый аргумент не является натуральным числом\n",
    "result = positive_product(-3, 1)"
   ]
  },
  {
   "cell_type": "markdown",
   "metadata": {},
   "source": [
    "Задача пользователя вашей функции состоит в том, чтобы отслеживать и корректно обрабатывать исключения с помощью конструкций **try-except**:"
   ]
  },
  {
   "cell_type": "code",
   "execution_count": 5,
   "metadata": {},
   "outputs": [
    {
     "name": "stdout",
     "output_type": "stream",
     "text": [
      "Everything is fine.\n",
      "This block is always executed.\n"
     ]
    }
   ],
   "source": [
    "x = 5\n",
    "y = 3\n",
    "try:\n",
    "    result = positive_product(x, y)\n",
    "except TypeError as e:\n",
    "    print(e.message)\n",
    "    print('Wrong types: {} and {}.'.format(type(x), type(y)))\n",
    "except ValueError as e:\n",
    "    print(e.message)\n",
    "    print('Wrong values: {} and {}'.format(x, y))\n",
    "except StandardError as e:\n",
    "    print(e.message)\n",
    "else:\n",
    "    print('Everything is fine.')\n",
    "finally:\n",
    "    print('This block is always executed.')"
   ]
  },
  {
   "cell_type": "markdown",
   "metadata": {},
   "source": [
    "При обработке исключений обязательно нужно написать один **try** и хотя бы один **except**. Необязательный блок **else** выполняется, если в блоке **try** не возникло исключений, необязательный блок **finally** выполняется в любом случае. Довольно часто пишут несколько операторов **except** -- по одному на \"предсказуемые\" ошибки и последний для ошибок, появление которых предусмотреть не удалось."
   ]
  },
  {
   "cell_type": "markdown",
   "metadata": {},
   "source": [
    "Можно создавать собственные классы исключений:"
   ]
  },
  {
   "cell_type": "code",
   "execution_count": 6,
   "metadata": {},
   "outputs": [
    {
     "name": "stdout",
     "output_type": "stream",
     "text": [
      "Item (3, 5) already in list [(1, 1), (3, 5)].\n"
     ]
    }
   ],
   "source": [
    "class AlreadyInListException(Exception):\n",
    "    def __init__(self, item, positions):\n",
    "        self.message = 'Item {} already in list {}.'.format(item, positions)\n",
    "        \n",
    "        \n",
    "def add_position(new_pos, positions):\n",
    "    if new_pos in positions:\n",
    "        raise AlreadyInListException(new_pos, positions)\n",
    "    positions.append(new_pos)\n",
    "    return positions\n",
    "\n",
    "\n",
    "positions = [(1, 1), (3, 5)]\n",
    "try:\n",
    "    positions = add_position((3, 5), positions)\n",
    "except AlreadyInListException as e:\n",
    "    print(e.message)"
   ]
  },
  {
   "cell_type": "markdown",
   "metadata": {},
   "source": [
    "# 2. Итераторы и генераторы\n",
    "Мы можем перебирать элементы некоторых типов данных с помощью цикла **for** (списки, кортежи, строки, словари и т.д.). Такие объекты называются итерируемыми (**iterable**). Чтобы объект был итерируемым, в нём должен быть специальный метод \\__**iter**\\__. Проверить, является ли объект итерируемым, можно с помощью функции **iter**:"
   ]
  },
  {
   "cell_type": "code",
   "execution_count": 7,
   "metadata": {},
   "outputs": [
    {
     "name": "stdout",
     "output_type": "stream",
     "text": [
      "False\n",
      "True\n",
      "True\n"
     ]
    }
   ],
   "source": [
    "def is_iterable(x):\n",
    "    try:\n",
    "        it = iter(x)\n",
    "    except TypeError:\n",
    "        return False\n",
    "    else:\n",
    "        return True\n",
    "    \n",
    "    \n",
    "print(is_iterable(42))\n",
    "print(is_iterable([1, 2, 3]))\n",
    "print(is_iterable('hello'))"
   ]
  },
  {
   "cell_type": "markdown",
   "metadata": {},
   "source": [
    "Python позволяет создавать специальные классы генераторов. Аналогично классам итераторов, в генераторах должен содержаться специальный метод \\__**iter**\\__, кроме того, должен быть метод **next** (пример генератора целых положительных чисел до заданного n):"
   ]
  },
  {
   "cell_type": "code",
   "execution_count": 8,
   "metadata": {},
   "outputs": [
    {
     "name": "stdout",
     "output_type": "stream",
     "text": [
      "1\n",
      "2\n",
      "3\n",
      "4\n",
      "5\n",
      "6\n",
      "7\n",
      "8\n",
      "9\n",
      "10\n"
     ]
    }
   ],
   "source": [
    "class GenRange(object):\n",
    "    def __init__(self, n):\n",
    "        self._current = 0\n",
    "        self._n = n\n",
    "        \n",
    "    def __iter__(self):\n",
    "        return self\n",
    "    \n",
    "    def next(self):\n",
    "        if self._current == self._n:\n",
    "            raise StopIteration()\n",
    "        self._current = self._current + 1\n",
    "        return self._current\n",
    "    \n",
    "    \n",
    "for val in GenRange(10):\n",
    "    print(val)"
   ]
  },
  {
   "cell_type": "markdown",
   "metadata": {},
   "source": [
    "Недостатком генератора является то, что каждый элемент можно использовать только один раз; безусловным преимуществом является экономия памяти, т.к. в любой момент времени в генераторе находится только один элемент (и, возможно, вспомогательные переменные, которые не занимают много места). Без генераторов не обойтись в работе с большими данными (такими, которые не могут быть размещены в оперативной памяти компьютера)."
   ]
  },
  {
   "cell_type": "markdown",
   "metadata": {},
   "source": [
    "Можно создавать бесконечные генераторы (генератор натуральных чисел):"
   ]
  },
  {
   "cell_type": "code",
   "execution_count": 9,
   "metadata": {},
   "outputs": [
    {
     "name": "stdout",
     "output_type": "stream",
     "text": [
      "1\n",
      "2\n",
      "3\n"
     ]
    }
   ],
   "source": [
    "class NaturalNumbers(object):\n",
    "    def __init__(self):\n",
    "        self._current = 0\n",
    "        \n",
    "    def __iter__(self):\n",
    "        return self\n",
    "    \n",
    "    def next(self):\n",
    "        self._current = self._current + 1\n",
    "        return self._current\n",
    "    \n",
    "    \n",
    "natural_numbers = NaturalNumbers()\n",
    "print(next(natural_numbers))\n",
    "print(next(natural_numbers))\n",
    "print(next(natural_numbers))"
   ]
  },
  {
   "cell_type": "markdown",
   "metadata": {},
   "source": [
    "Такой же генератор, только созданный через функцию, возвращающую результат оператором **yield**:"
   ]
  },
  {
   "cell_type": "code",
   "execution_count": 10,
   "metadata": {},
   "outputs": [
    {
     "name": "stdout",
     "output_type": "stream",
     "text": [
      "1\n",
      "2\n",
      "3\n"
     ]
    }
   ],
   "source": [
    "def function_natural_numbers():\n",
    "    i = 1\n",
    "    while True:\n",
    "        yield i\n",
    "        i = i + 1\n",
    "        \n",
    "        \n",
    "natural_numbers2 = function_natural_numbers()\n",
    "print(next(natural_numbers2))\n",
    "print(next(natural_numbers2))\n",
    "print(next(natural_numbers2))"
   ]
  },
  {
   "cell_type": "markdown",
   "metadata": {},
   "source": [
    "## 3. Comprehensive Python"
   ]
  },
  {
   "cell_type": "markdown",
   "metadata": {},
   "source": [
    "Для быстрой генерации один итерируемых структур из других в Python есть специальные методы, называемые list comprehensions. Рассмотрим некоторые примеры."
   ]
  },
  {
   "cell_type": "markdown",
   "metadata": {},
   "source": [
    "Генерация списка, состоящего из элементов другого списка, возведенных в квадрат:"
   ]
  },
  {
   "cell_type": "code",
   "execution_count": 11,
   "metadata": {},
   "outputs": [
    {
     "name": "stdout",
     "output_type": "stream",
     "text": [
      "[0, 1, 2, 3, 4, 5, 6, 7, 8, 9]\n",
      "[0, 1, 4, 9, 16, 25, 36, 49, 64, 81]\n"
     ]
    }
   ],
   "source": [
    "some_list = range(10)\n",
    "new_list = [el * el for el in some_list]\n",
    "print(some_list)\n",
    "print(new_list)"
   ]
  },
  {
   "cell_type": "markdown",
   "metadata": {},
   "source": [
    "Генерация словаря из другого словаря:"
   ]
  },
  {
   "cell_type": "code",
   "execution_count": 12,
   "metadata": {},
   "outputs": [
    {
     "name": "stdout",
     "output_type": "stream",
     "text": [
      "{'key3': 3, 'key2': 2, 'key1': 1}\n",
      "{'key3': 6, 'key2': 4, 'key1': 2}\n"
     ]
    }
   ],
   "source": [
    "some_dict = {'key1': 1, 'key2': 2, 'key3': 3}\n",
    "other_dict = {k: some_dict[k] * 2 for k in some_dict}\n",
    "print(some_dict)\n",
    "print(other_dict)"
   ]
  },
  {
   "cell_type": "markdown",
   "metadata": {},
   "source": [
    "Генерация спиской ключей или значений из словаря:"
   ]
  },
  {
   "cell_type": "code",
   "execution_count": 13,
   "metadata": {},
   "outputs": [
    {
     "name": "stdout",
     "output_type": "stream",
     "text": [
      "['key3', 'key2', 'key1']\n",
      "[3, 2, 1]\n"
     ]
    }
   ],
   "source": [
    "dict_keys = [k for k in some_dict]\n",
    "dict_values = [some_dict[k] for k in some_dict]\n",
    "print(dict_keys)\n",
    "print(dict_values)"
   ]
  },
  {
   "cell_type": "markdown",
   "metadata": {},
   "source": [
    "К слову, для последней операции (и не только) в словаре существуют специальные функции:\n",
    "- .keys() - возвращает список ключей словаря\n",
    "- .values() - возвращает список значений словаря\n",
    "- .iterkeys() - возвращает итератор ключей словаря\n",
    "- .itervalues() - возвращает итератор значений словаря\n",
    "Также интересны функции, возвращающие пары \"ключ-значение\" для словаря:\n",
    "- .items() - в виде списка\n",
    "- .iteritems() - в виде итератора."
   ]
  },
  {
   "cell_type": "code",
   "execution_count": 14,
   "metadata": {},
   "outputs": [
    {
     "name": "stdout",
     "output_type": "stream",
     "text": [
      "Список ключей: ['key3', 'key2', 'key1']\n",
      "Список значений: [3, 2, 1]\n",
      "Итератор ключей: <dictionary-keyiterator object at 0x106027fc8>\n",
      "Итератор значений: <dictionary-valueiterator object at 0x106027fc8>\n",
      "Список пар ключ/значение: [('key3', 3), ('key2', 2), ('key1', 1)]\n",
      "Итератор пар ключ/значение: <dictionary-itemiterator object at 0x1052bb1b0>\n"
     ]
    }
   ],
   "source": [
    "print('Список ключей: {}'.format(some_dict.keys()))\n",
    "print('Список значений: {}'.format(some_dict.values()))\n",
    "print('Итератор ключей: {}'.format(some_dict.iterkeys()))\n",
    "print('Итератор значений: {}'.format(some_dict.itervalues()))\n",
    "print('Список пар ключ/значение: {}'.format(some_dict.items()))\n",
    "print('Итератор пар ключ/значение: {}'.format(some_dict.iteritems()))"
   ]
  },
  {
   "cell_type": "markdown",
   "metadata": {},
   "source": [
    "Пример генерации с условием (список генерируется только из чётных элементов):"
   ]
  },
  {
   "cell_type": "code",
   "execution_count": 15,
   "metadata": {},
   "outputs": [
    {
     "name": "stdout",
     "output_type": "stream",
     "text": [
      "[0, 1, 2, 3, 4, 5, 6, 7, 8, 9]\n",
      "[0, 4, 16, 36, 64]\n"
     ]
    }
   ],
   "source": [
    "some_list2 = [k * k for k in some_list if k % 2 == 0]\n",
    "print(some_list)\n",
    "print(some_list2)"
   ]
  },
  {
   "cell_type": "markdown",
   "metadata": {},
   "source": [
    "## 4. Элементы функционального программирования\n",
    "В Python существуют некоторые элементы функционального программирования, например, лямбда-выражения, которые позволяют создавать небольшие функции (в том числе анонимные) и функции высшего порядка, такие, как **map**, **zip**, **filter**, **reduce**."
   ]
  },
  {
   "cell_type": "markdown",
   "metadata": {},
   "source": [
    "Пример функции \"традиционного\" вида и того, как её можно переписать с помощью лямбда-выражения:"
   ]
  },
  {
   "cell_type": "code",
   "execution_count": 16,
   "metadata": {
    "collapsed": true
   },
   "outputs": [],
   "source": [
    "def square(x):\n",
    "    return x * x\n",
    "\n",
    "\n",
    "lam_square = lambda x: x * x"
   ]
  },
  {
   "cell_type": "markdown",
   "metadata": {},
   "source": [
    "Пример использования лямбда-функции без определения (анонимная функция, определена только в одном месте):"
   ]
  },
  {
   "cell_type": "code",
   "execution_count": 17,
   "metadata": {},
   "outputs": [
    {
     "name": "stdout",
     "output_type": "stream",
     "text": [
      "[0, 1, 2, 3, 4, 5, 6, 7, 8, 9]\n",
      "[0, 1, 4, 9, 16, 25, 36, 49, 64, 81]\n"
     ]
    }
   ],
   "source": [
    "new_list = [(lambda x: x * x)(el) for el in some_list]\n",
    "print(some_list)\n",
    "print(new_list)"
   ]
  },
  {
   "cell_type": "markdown",
   "metadata": {},
   "source": [
    "Выше определяется анонимная лямбда-функция, которая применяется ко всем элементам списка some_list."
   ]
  },
  {
   "cell_type": "markdown",
   "metadata": {},
   "source": [
    "Лямбда-выражения особенно удобно использовать в фукнциях высшего порядка."
   ]
  },
  {
   "cell_type": "markdown",
   "metadata": {},
   "source": [
    "Функция **map** принимает в качестве первого аргумента функцию от N переменных, остальные аргументы -- N итерируемых объектов одинаковой длины; функция, заданная первым аргументом, будет применяться поэлементно к остальным аргументам:"
   ]
  },
  {
   "cell_type": "code",
   "execution_count": 18,
   "metadata": {},
   "outputs": [
    {
     "name": "stdout",
     "output_type": "stream",
     "text": [
      "[1, 4, 9]\n"
     ]
    }
   ],
   "source": [
    "print(map(lambda x: x * x, [1, 2, 3]))"
   ]
  },
  {
   "cell_type": "code",
   "execution_count": 19,
   "metadata": {},
   "outputs": [
    {
     "name": "stdout",
     "output_type": "stream",
     "text": [
      "[5, 7, 9]\n"
     ]
    }
   ],
   "source": [
    "print(map(lambda x, y: x + y, [1, 2, 3], [4, 5, 6]))"
   ]
  },
  {
   "cell_type": "code",
   "execution_count": 20,
   "metadata": {},
   "outputs": [
    {
     "ename": "TypeError",
     "evalue": "unsupported operand type(s) for *: 'NoneType' and 'int'",
     "output_type": "error",
     "traceback": [
      "\u001b[0;31m---------------------------------------------------------------------------\u001b[0m",
      "\u001b[0;31mTypeError\u001b[0m                                 Traceback (most recent call last)",
      "\u001b[0;32m<ipython-input-20-587184db6ed0>\u001b[0m in \u001b[0;36m<module>\u001b[0;34m()\u001b[0m\n\u001b[0;32m----> 1\u001b[0;31m \u001b[0;32mprint\u001b[0m\u001b[0;34m(\u001b[0m\u001b[0mmap\u001b[0m\u001b[0;34m(\u001b[0m\u001b[0;32mlambda\u001b[0m \u001b[0mx\u001b[0m\u001b[0;34m,\u001b[0m \u001b[0my\u001b[0m\u001b[0;34m:\u001b[0m \u001b[0mx\u001b[0m \u001b[0;34m*\u001b[0m \u001b[0my\u001b[0m\u001b[0;34m,\u001b[0m \u001b[0;34m[\u001b[0m\u001b[0;36m1\u001b[0m\u001b[0;34m,\u001b[0m \u001b[0;36m2\u001b[0m\u001b[0;34m]\u001b[0m\u001b[0;34m,\u001b[0m \u001b[0;34m[\u001b[0m\u001b[0;36m4\u001b[0m\u001b[0;34m,\u001b[0m \u001b[0;36m5\u001b[0m\u001b[0;34m,\u001b[0m \u001b[0;36m6\u001b[0m\u001b[0;34m]\u001b[0m\u001b[0;34m)\u001b[0m\u001b[0;34m)\u001b[0m  \u001b[0;31m# списки разной длины\u001b[0m\u001b[0;34m\u001b[0m\u001b[0m\n\u001b[0m",
      "\u001b[0;32m<ipython-input-20-587184db6ed0>\u001b[0m in \u001b[0;36m<lambda>\u001b[0;34m(x, y)\u001b[0m\n\u001b[0;32m----> 1\u001b[0;31m \u001b[0;32mprint\u001b[0m\u001b[0;34m(\u001b[0m\u001b[0mmap\u001b[0m\u001b[0;34m(\u001b[0m\u001b[0;32mlambda\u001b[0m \u001b[0mx\u001b[0m\u001b[0;34m,\u001b[0m \u001b[0my\u001b[0m\u001b[0;34m:\u001b[0m \u001b[0mx\u001b[0m \u001b[0;34m*\u001b[0m \u001b[0my\u001b[0m\u001b[0;34m,\u001b[0m \u001b[0;34m[\u001b[0m\u001b[0;36m1\u001b[0m\u001b[0;34m,\u001b[0m \u001b[0;36m2\u001b[0m\u001b[0;34m]\u001b[0m\u001b[0;34m,\u001b[0m \u001b[0;34m[\u001b[0m\u001b[0;36m4\u001b[0m\u001b[0;34m,\u001b[0m \u001b[0;36m5\u001b[0m\u001b[0;34m,\u001b[0m \u001b[0;36m6\u001b[0m\u001b[0;34m]\u001b[0m\u001b[0;34m)\u001b[0m\u001b[0;34m)\u001b[0m  \u001b[0;31m# списки разной длины\u001b[0m\u001b[0;34m\u001b[0m\u001b[0m\n\u001b[0m",
      "\u001b[0;31mTypeError\u001b[0m: unsupported operand type(s) for *: 'NoneType' and 'int'"
     ]
    }
   ],
   "source": [
    "print(map(lambda x, y: x * y, [1, 2], [4, 5, 6]))  # списки разной длины"
   ]
  },
  {
   "cell_type": "markdown",
   "metadata": {},
   "source": [
    "Функция **filter** принимает функцию одного аргумента, возвращающую True или False, и итерируемый объект, к элементам которого применяется заданная функция. Результатом выполнения функции **filter** является список, составленный из элементов исходного итерируемого объекта, для которого заданная функция вернет True."
   ]
  },
  {
   "cell_type": "code",
   "execution_count": 21,
   "metadata": {},
   "outputs": [
    {
     "name": "stdout",
     "output_type": "stream",
     "text": [
      "[0, 2, 4, 6, 8]\n",
      "[]\n"
     ]
    }
   ],
   "source": [
    "print(filter(lambda x: x % 2 == 0, range(10)))\n",
    "print(filter(lambda x: x > 1 and x < 5, range(5, 15)))"
   ]
  },
  {
   "cell_type": "markdown",
   "metadata": {},
   "source": [
    "Функция **zip** принимает несколько итерируемых объектов (возможно, разной длины) и возвращает список кортежей; i-й кортеж содержит i-е элементы принятых объектов."
   ]
  },
  {
   "cell_type": "code",
   "execution_count": 22,
   "metadata": {},
   "outputs": [
    {
     "name": "stdout",
     "output_type": "stream",
     "text": [
      "[(1, 4), (2, 5), (3, 6)]\n",
      "[(1, 3, 'h', 'key')]\n"
     ]
    }
   ],
   "source": [
    "print(zip([1, 2, 3], [4, 5, 6]))\n",
    "print(zip([1, 2], [3, 4, 5], 'hello', {'key': 'value'}))"
   ]
  },
  {
   "cell_type": "markdown",
   "metadata": {},
   "source": [
    "Функция **reduce** служит для комбинации последовательности вычислений. В качестве аргументов она принимает функцию от двух аргументов (аккумулирующая переменная, текущая переменная), реализующую последовательность вычислений, итерируемый объект и начальное значение."
   ]
  },
  {
   "cell_type": "markdown",
   "metadata": {},
   "source": [
    "Пример вычисления произведения элементов в списке:"
   ]
  },
  {
   "cell_type": "code",
   "execution_count": 23,
   "metadata": {},
   "outputs": [
    {
     "name": "stdout",
     "output_type": "stream",
     "text": [
      "210\n"
     ]
    }
   ],
   "source": [
    "print(reduce(lambda res, x: res * x, [5, 6, 7], 1))"
   ]
  },
  {
   "cell_type": "markdown",
   "metadata": {},
   "source": [
    "Пример объединения списка списков в один список:"
   ]
  },
  {
   "cell_type": "code",
   "execution_count": 24,
   "metadata": {},
   "outputs": [
    {
     "name": "stdout",
     "output_type": "stream",
     "text": [
      "[1, 2, 3, 4, 5]\n"
     ]
    }
   ],
   "source": [
    "print(reduce(lambda res, x: res + x, [[1, 2], [3, 4, 5]], []))"
   ]
  },
  {
   "cell_type": "markdown",
   "metadata": {},
   "source": [
    "Стоит заметить, что в стандартной библиотеке Python есть модуль **itertools**, который содержит функции высшего порядка, возвращающие объекты-генераторы вместо списков:"
   ]
  },
  {
   "cell_type": "code",
   "execution_count": 25,
   "metadata": {
    "collapsed": true
   },
   "outputs": [],
   "source": [
    "from itertools import izip, imap, ifilter"
   ]
  },
  {
   "cell_type": "code",
   "execution_count": 26,
   "metadata": {},
   "outputs": [
    {
     "name": "stdout",
     "output_type": "stream",
     "text": [
      "<itertools.ifilter object at 0x1060328d0>\n",
      "6\n",
      "7\n",
      "8\n",
      "9\n"
     ]
    }
   ],
   "source": [
    "greater_than_5 = ifilter(lambda x: x > 5, range(10))\n",
    "print(greater_than_5)\n",
    "for x in greater_than_5:\n",
    "    print(x)"
   ]
  },
  {
   "cell_type": "markdown",
   "metadata": {},
   "source": [
    "Интересной особенностью этих функций является то, что они могут быть применены к бесконечным объектам."
   ]
  },
  {
   "cell_type": "code",
   "execution_count": 27,
   "metadata": {},
   "outputs": [
    {
     "name": "stdout",
     "output_type": "stream",
     "text": [
      "1\n",
      "4\n",
      "9\n",
      "16\n",
      "25\n"
     ]
    }
   ],
   "source": [
    "# квадраты натуральных чисел\n",
    "nat_squares = imap(lambda x: x * x, function_natural_numbers())\n",
    "# первые 5\n",
    "for i in range(5):\n",
    "    print(next(nat_squares))"
   ]
  },
  {
   "cell_type": "code",
   "execution_count": 28,
   "metadata": {},
   "outputs": [
    {
     "name": "stdout",
     "output_type": "stream",
     "text": [
      "(1, 1)\n",
      "(2, 4)\n",
      "(3, 9)\n",
      "(4, 16)\n",
      "(5, 25)\n"
     ]
    }
   ],
   "source": [
    "# пары: натуральное число/его квадрат\n",
    "natural_nums = function_natural_numbers()\n",
    "nat_squares = imap(lambda x: x * x, function_natural_numbers())\n",
    "pairs = izip(natural_nums, nat_squares)\n",
    "# первые 5\n",
    "for i in range(5):\n",
    "    print(next(pairs))"
   ]
  },
  {
   "cell_type": "code",
   "execution_count": 29,
   "metadata": {},
   "outputs": [
    {
     "name": "stdout",
     "output_type": "stream",
     "text": [
      "2\n",
      "4\n",
      "6\n",
      "8\n",
      "10\n",
      "-----\n",
      "1\n",
      "3\n",
      "5\n",
      "7\n",
      "9\n"
     ]
    }
   ],
   "source": [
    "# только чётные натуральные числа\n",
    "nat_evens = ifilter(lambda x: x % 2 == 0, function_natural_numbers())\n",
    "# первые 5\n",
    "for i in range(5):\n",
    "    print(next(nat_evens))\n",
    "print('-----')\n",
    "# только нечётные натуральные числа\n",
    "nat_odds = ifilter(lambda x: x % 2 != 0, function_natural_numbers())\n",
    "# первые 5\n",
    "for i in range(5):\n",
    "    print(next(nat_odds))"
   ]
  },
  {
   "cell_type": "markdown",
   "metadata": {},
   "source": [
    "## Дополнительно: разбор задач со встречи"
   ]
  },
  {
   "cell_type": "markdown",
   "metadata": {},
   "source": [
    "Задача: написать генератор, который способен перебрать все целые числа."
   ]
  },
  {
   "cell_type": "code",
   "execution_count": 30,
   "metadata": {},
   "outputs": [
    {
     "name": "stdout",
     "output_type": "stream",
     "text": [
      "0\n",
      "-1\n",
      "1\n",
      "-2\n",
      "2\n",
      "-3\n",
      "3\n",
      "-4\n",
      "4\n",
      "-5\n",
      "5\n"
     ]
    }
   ],
   "source": [
    "class AllInts(object):\n",
    "    def __init__(self):\n",
    "        self._current = 0\n",
    "        self._next = 0\n",
    "        self._negative = True\n",
    "        \n",
    "    def __iter__(self):\n",
    "        return self\n",
    "    \n",
    "    def next(self):\n",
    "        self._current = self._next\n",
    "        if self._negative:\n",
    "            self._next = -(self._current + 1)\n",
    "        else:\n",
    "            self._next = -self._current\n",
    "        self._negative = not self._negative\n",
    "        return self._current\n",
    "\n",
    "\n",
    "ints = AllInts()\n",
    "for i in range(11):\n",
    "    print(next(ints))"
   ]
  },
  {
   "cell_type": "markdown",
   "metadata": {},
   "source": [
    "Задача: написать генератор списков длины N, состоящих из 0 и 1."
   ]
  },
  {
   "cell_type": "code",
   "execution_count": 31,
   "metadata": {},
   "outputs": [
    {
     "name": "stdout",
     "output_type": "stream",
     "text": [
      "[0, 0, 0]\n",
      "[0, 0, 1]\n",
      "[0, 1, 0]\n",
      "[0, 1, 1]\n",
      "[1, 0, 0]\n",
      "[1, 0, 1]\n",
      "[1, 1, 0]\n",
      "[1, 1, 1]\n"
     ]
    }
   ],
   "source": [
    "class ZerosAndOnes(object):\n",
    "    def __init__(self, n):\n",
    "        self._current = 0\n",
    "        self._n = n\n",
    "        \n",
    "    def __iter__(self):\n",
    "        return self\n",
    "    \n",
    "    def next(self):\n",
    "        bins = bin(self._current)    # получаем двоичное представление\n",
    "        bins = bins[2:]              # обрезаем символы '0b' в начале строки\n",
    "        bins = map(int, list(bins))  # преобразовываем в список, затем в целый тип\n",
    "        result = [0 for i in range(self._n - len(bins))]  # нули впереди списка\n",
    "        result = result + bins\n",
    "        self._current = self._current + 1\n",
    "        if len(result) > self._n:\n",
    "            raise StopIteration()\n",
    "        else:\n",
    "            return result\n",
    "    \n",
    "\n",
    "for x in ZerosAndOnes(3):\n",
    "    print(x)"
   ]
  },
  {
   "cell_type": "code",
   "execution_count": null,
   "metadata": {
    "collapsed": true
   },
   "outputs": [],
   "source": []
  }
 ],
 "metadata": {
  "kernelspec": {
   "display_name": "Python 2",
   "language": "python",
   "name": "python2"
  },
  "language_info": {
   "codemirror_mode": {
    "name": "ipython",
    "version": 2
   },
   "file_extension": ".py",
   "mimetype": "text/x-python",
   "name": "python",
   "nbconvert_exporter": "python",
   "pygments_lexer": "ipython2",
   "version": "2.7.13"
  }
 },
 "nbformat": 4,
 "nbformat_minor": 2
}
