{
 "cells": [
  {
   "cell_type": "markdown",
   "metadata": {},
   "source": [
    "# Python, первое практическое занятие\n",
    "1. Переменные, выражения, операторы\n",
    "2. Ввод/вывод и функция format\n",
    "3. Списки\n",
    "4. Строки\n",
    "5. Кортежи\n",
    "6. Ассоциативные списки (словари)\n",
    "7. Вырезки\n",
    "8. Некоторые специальные функции над списочными объектами\n",
    "9. Условные выражения\n",
    "10. Дополнительные материалы для изучения"
   ]
  },
  {
   "cell_type": "markdown",
   "metadata": {},
   "source": [
    "## 1. Переменные, выражения, операторы\n",
    "В Python существует четыре базовых типа данных -- целочисленный, вещественный, символьный и булевый. Ниже приведён пример создания и использования переменных этих типов:"
   ]
  },
  {
   "cell_type": "code",
   "execution_count": 1,
   "metadata": {
    "collapsed": true
   },
   "outputs": [],
   "source": [
    "i = 42\n",
    "pi = 3.141592653589793\n",
    "s = 'a'\n",
    "is_true = True"
   ]
  },
  {
   "cell_type": "code",
   "execution_count": 2,
   "metadata": {},
   "outputs": [
    {
     "name": "stdout",
     "output_type": "stream",
     "text": [
      "False\n",
      "43\n",
      "1.57079632679\n",
      "a\n"
     ]
    }
   ],
   "source": [
    "print(not is_true)\n",
    "print(i + 1)\n",
    "print(pi / 2)\n",
    "print(s)"
   ]
  },
  {
   "cell_type": "markdown",
   "metadata": {},
   "source": [
    "## 2. Ввод/вывод и функция format\n",
    "Как было показано выше, функция **print** может применяться для вывода на экран значений переменных или результатов вычисления выражений. Для более изящного форматирования вывода может помочь функция **format**, которая преобразует передаваемые ей параметры в символьное представление (функции и объекты мы будем изучать позже) и служит для преобразования произвольных объектов в символьное представление:"
   ]
  },
  {
   "cell_type": "code",
   "execution_count": 3,
   "metadata": {},
   "outputs": [
    {
     "name": "stdout",
     "output_type": "stream",
     "text": [
      "pi = 3.14159265359\n",
      "Значение переменной i равно 42\n",
      "Значение переменной is_true равно True, её отрицание равно False\n"
     ]
    }
   ],
   "source": [
    "print('pi = {}'.format(pi))\n",
    "print('Значение переменной i равно {}'.format(i))\n",
    "print('Значение переменной is_true равно {}, её отрицание равно {}'.format(is_true, not is_true))"
   ]
  },
  {
   "cell_type": "markdown",
   "metadata": {},
   "source": [
    "Функция **format** принимает произвольное число параметров и выводит их в соответствии с расположением фигурных скобок внутри кавычек. Ниже приведены ещё несколько примеров для понимания возможностей этой функции:"
   ]
  },
  {
   "cell_type": "code",
   "execution_count": 4,
   "metadata": {
    "scrolled": true
   },
   "outputs": [
    {
     "name": "stdout",
     "output_type": "stream",
     "text": [
      "Значение переменной pi = 3.14159265359, i = 42\n",
      "Значение переменной pi = 3.14159265359, i = 42\n",
      "Значение переменной pi = 3.14159265359, i = 42\n",
      "Значение переменной pi = 3.1416\n"
     ]
    }
   ],
   "source": [
    "print('Значение переменной pi = {0}, i = {1}'.format(pi, i))  # использовали индексы, хотя обычно это не обязательно\n",
    "print('Значение переменной pi = {1}, i = {0}'.format(i, pi))  # использовали индексы для изменения порядка использования параметров,\n",
    "                                                           # сообщение при этом выводится точно такое же\n",
    "print('Значение переменной pi = {pi_val}, i = {i_val}'.format(i_val=i, pi_val=pi))  # с использованием ключевых слов\n",
    "print('Значение переменной pi = {0:.5}'.format(pi))  # число знаков после точки для вещественного числа"
   ]
  },
  {
   "cell_type": "markdown",
   "metadata": {},
   "source": [
    "Интерактивный ввод данных пользователем можно организовать с помощью функций **input** и **raw_input**. Разница между ними состоит в том, что первая автоматически преобразует вводимые данные в требуемый тип (если это возможно), вторая всё преобразовывает в символьный тип:"
   ]
  },
  {
   "cell_type": "code",
   "execution_count": 5,
   "metadata": {},
   "outputs": [
    {
     "name": "stdout",
     "output_type": "stream",
     "text": [
      "Type some integer:\n",
      "5\n",
      "Type some integer-2:\n",
      "3\n",
      "Type some float:\n",
      "5.5\n"
     ]
    }
   ],
   "source": [
    "i = input('Type some integer:\\n')\n",
    "j = raw_input('Type some integer-2:\\n')\n",
    "d = input('Type some float:\\n')"
   ]
  },
  {
   "cell_type": "code",
   "execution_count": 6,
   "metadata": {},
   "outputs": [
    {
     "name": "stdout",
     "output_type": "stream",
     "text": [
      "5\n",
      "<type 'int'>\n",
      "3\n",
      "<type 'str'>\n",
      "5.5\n",
      "<type 'float'>\n"
     ]
    }
   ],
   "source": [
    "print(i)\n",
    "print(type(i))\n",
    "print(j)\n",
    "print(type(j))\n",
    "print(d)\n",
    "print(type(d))"
   ]
  },
  {
   "cell_type": "markdown",
   "metadata": {},
   "source": [
    "(Про функцию **type** мы ещё не говорили, но как видно из её использования, она позволяет узнавать тип передаваемых ей значений.)"
   ]
  },
  {
   "cell_type": "markdown",
   "metadata": {},
   "source": [
    "## 3. Списки (List)\n",
    "На лекции было рассказано, что в Python списки могут содержать объекты разных типов:"
   ]
  },
  {
   "cell_type": "code",
   "execution_count": 7,
   "metadata": {
    "collapsed": true
   },
   "outputs": [],
   "source": [
    "a = [0, 1, 2, 3, 4]  # список из объектов одного типа\n",
    "b = [1, True, 'hi']  # список из объектов разных типов\n",
    "c = []               # пустой список"
   ]
  },
  {
   "cell_type": "markdown",
   "metadata": {},
   "source": [
    "Индексация в Python начинается с 0. Кроме того, поддерживается и обратная (отрицательная) индексация. Например, для списка символов ['H', 'E', 'L', 'L', 'O', '_', 'W', 'O', 'R', 'L', 'D'] положительная/отрицательная индексация выглядит следующим образом (вывод кода):"
   ]
  },
  {
   "cell_type": "code",
   "execution_count": 8,
   "metadata": {},
   "outputs": [
    {
     "name": "stdout",
     "output_type": "stream",
     "text": [
      " H   E   L   L   O   _   W   O   R   L   D    (элементы в списке)\n",
      " 0   1   2   3   4   5   6   7   8   9   10   (положительные индексы)\n",
      "-11 -10 -9  -8  -7  -6  -5  -4  -3  -2  -1    (отрицательные индексы)\n"
     ]
    }
   ],
   "source": [
    "def print_inds_pretty(a):\n",
    "    '''\n",
    "    Вспомогательная функция для вывода элементов списка\n",
    "    вместе с положительными/отрицательными индексами.\n",
    "    Разбирать этот фрагмент необязательно,\n",
    "    т.к. некоторые используемые концепты мы ещё не изучили.\n",
    "    '''\n",
    "    s_neg_inds = map(str, xrange(-len(a), 0, 1))\n",
    "    max_w = max(map(len, s_neg_inds))\n",
    "    fmt_s = lambda x: x + ''.join([' '] * (max_w - len(x)))\n",
    "    print('{}{}  {}'.format(' ', ' '.join(map(fmt_s, a)), '(элементы в списке)'))\n",
    "    print('{}{}  {}'.format(' ', ' '.join(map(fmt_s, map(str, xrange(len(a))))), '(положительные индексы)'))\n",
    "    print('{}   {}'.format(' '.join(map(fmt_s, s_neg_inds)), '(отрицательные индексы)'))\n",
    "\n",
    "\n",
    "s_list = ['H', 'E', 'L', 'L', 'O', '_', 'W', 'O', 'R', 'L', 'D']\n",
    "print_inds_pretty(s_list)"
   ]
  },
  {
   "cell_type": "markdown",
   "metadata": {},
   "source": [
    "Индексы используются для обращения к элементам массива и их использованием в выражениях:"
   ]
  },
  {
   "cell_type": "code",
   "execution_count": 9,
   "metadata": {},
   "outputs": [
    {
     "name": "stdout",
     "output_type": "stream",
     "text": [
      "a[0] = 0\n",
      "b[-2] = True\n",
      "a[0] + b[-3] = 1\n"
     ]
    }
   ],
   "source": [
    "print('a[0] = {}'.format(a[0]))\n",
    "print('b[-2] = {}'.format(b[-2]))\n",
    "print('a[0] + b[-3] = {}'.format(a[0] + b[-3]))"
   ]
  },
  {
   "cell_type": "markdown",
   "metadata": {},
   "source": [
    "Индексы можно использовать для изменения значений элементов в списке:"
   ]
  },
  {
   "cell_type": "code",
   "execution_count": 10,
   "metadata": {},
   "outputs": [
    {
     "name": "stdout",
     "output_type": "stream",
     "text": [
      "Список a до изменения: [0, 1, 2, 3, 4]\n",
      "Список a после изменения: [0, 1, 2, 3, 100500]\n"
     ]
    }
   ],
   "source": [
    "print('Список a до изменения: {}'.format(a))\n",
    "a[-1] = 100500\n",
    "print('Список a после изменения: {}'.format(a))"
   ]
  },
  {
   "cell_type": "markdown",
   "metadata": {},
   "source": [
    "Использование неправильного индекса приведёт к ошибке:"
   ]
  },
  {
   "cell_type": "code",
   "execution_count": 11,
   "metadata": {},
   "outputs": [
    {
     "ename": "IndexError",
     "evalue": "list index out of range",
     "output_type": "error",
     "traceback": [
      "\u001b[0;31m---------------------------------------------------------------------------\u001b[0m",
      "\u001b[0;31mIndexError\u001b[0m                                Traceback (most recent call last)",
      "\u001b[0;32m<ipython-input-11-dcc45c5ce130>\u001b[0m in \u001b[0;36m<module>\u001b[0;34m()\u001b[0m\n\u001b[0;32m----> 1\u001b[0;31m \u001b[0;32mprint\u001b[0m\u001b[0;34m(\u001b[0m\u001b[0ma\u001b[0m\u001b[0;34m[\u001b[0m\u001b[0;36m5\u001b[0m\u001b[0;34m]\u001b[0m\u001b[0;34m)\u001b[0m\u001b[0;34m\u001b[0m\u001b[0m\n\u001b[0m",
      "\u001b[0;31mIndexError\u001b[0m: list index out of range"
     ]
    }
   ],
   "source": [
    "print(a[5])"
   ]
  },
  {
   "cell_type": "code",
   "execution_count": 12,
   "metadata": {},
   "outputs": [
    {
     "ename": "IndexError",
     "evalue": "list index out of range",
     "output_type": "error",
     "traceback": [
      "\u001b[0;31m---------------------------------------------------------------------------\u001b[0m",
      "\u001b[0;31mIndexError\u001b[0m                                Traceback (most recent call last)",
      "\u001b[0;32m<ipython-input-12-ec9fcde296df>\u001b[0m in \u001b[0;36m<module>\u001b[0;34m()\u001b[0m\n\u001b[0;32m----> 1\u001b[0;31m \u001b[0;32mprint\u001b[0m\u001b[0;34m(\u001b[0m\u001b[0ma\u001b[0m\u001b[0;34m[\u001b[0m\u001b[0;34m-\u001b[0m\u001b[0;36m10\u001b[0m\u001b[0;34m]\u001b[0m\u001b[0;34m)\u001b[0m\u001b[0;34m\u001b[0m\u001b[0m\n\u001b[0m",
      "\u001b[0;31mIndexError\u001b[0m: list index out of range"
     ]
    }
   ],
   "source": [
    "print(a[-10])"
   ]
  },
  {
   "cell_type": "markdown",
   "metadata": {},
   "source": [
    "## 4. Строки (String)\n",
    "Строки -- это *неизменяемые* списки, состоящие из символьных значений:"
   ]
  },
  {
   "cell_type": "code",
   "execution_count": 13,
   "metadata": {
    "collapsed": true
   },
   "outputs": [],
   "source": [
    "s = 'This is a string'\n",
    "s2 = 'This is another string'\n",
    "s3 = ''  # пустая строка"
   ]
  },
  {
   "cell_type": "markdown",
   "metadata": {},
   "source": [
    "К отдельным символам тоже можно обращаться по индексам и использовать их в выражениях:"
   ]
  },
  {
   "cell_type": "code",
   "execution_count": 14,
   "metadata": {},
   "outputs": [
    {
     "name": "stdout",
     "output_type": "stream",
     "text": [
      "h\n",
      "hist\n"
     ]
    }
   ],
   "source": [
    "print(s[1])\n",
    "print(s[1] + s2[5] + s[-10] + s2[-5])"
   ]
  },
  {
   "cell_type": "markdown",
   "metadata": {},
   "source": [
    "Но попытка изменить значение элемента в строке приведёт к ошибке:"
   ]
  },
  {
   "cell_type": "code",
   "execution_count": 15,
   "metadata": {},
   "outputs": [
    {
     "ename": "TypeError",
     "evalue": "'str' object does not support item assignment",
     "output_type": "error",
     "traceback": [
      "\u001b[0;31m---------------------------------------------------------------------------\u001b[0m",
      "\u001b[0;31mTypeError\u001b[0m                                 Traceback (most recent call last)",
      "\u001b[0;32m<ipython-input-15-01f40ae82041>\u001b[0m in \u001b[0;36m<module>\u001b[0;34m()\u001b[0m\n\u001b[0;32m----> 1\u001b[0;31m \u001b[0ms\u001b[0m\u001b[0;34m[\u001b[0m\u001b[0;36m1\u001b[0m\u001b[0;34m]\u001b[0m \u001b[0;34m=\u001b[0m \u001b[0;34m'g'\u001b[0m\u001b[0;34m\u001b[0m\u001b[0m\n\u001b[0m",
      "\u001b[0;31mTypeError\u001b[0m: 'str' object does not support item assignment"
     ]
    }
   ],
   "source": [
    "s[1] = 'g'"
   ]
  },
  {
   "cell_type": "markdown",
   "metadata": {},
   "source": [
    "## 5. Кортежи (Tuple)\n",
    "Кортежи -- это неизменяемые списки. Синтаксис их определения немного отличается от обычных списков -- нужно перечислить элементы через запятую, при желании можно указать скобки:"
   ]
  },
  {
   "cell_type": "code",
   "execution_count": 16,
   "metadata": {
    "collapsed": true
   },
   "outputs": [],
   "source": [
    "t = (1, 2, 3)           # кортеж из целых чисел\n",
    "t2 = 'hi', 'ok', 'bye'  # кортеж из строк\n",
    "t3 = ()                 # пустой кортеж"
   ]
  },
  {
   "cell_type": "markdown",
   "metadata": {},
   "source": [
    "Всё, что было рассказано про списки, применимо и к кортежам:"
   ]
  },
  {
   "cell_type": "code",
   "execution_count": 17,
   "metadata": {},
   "outputs": [
    {
     "name": "stdout",
     "output_type": "stream",
     "text": [
      "4\n",
      "hi, bye\n"
     ]
    }
   ],
   "source": [
    "print(t[0] + t[2])\n",
    "print('{}, {}'.format(t2[0], t2[2]))"
   ]
  },
  {
   "cell_type": "markdown",
   "metadata": {},
   "source": [
    "Попытка изменить элементы в кортеже приведёт к ошибке:"
   ]
  },
  {
   "cell_type": "code",
   "execution_count": 18,
   "metadata": {},
   "outputs": [
    {
     "ename": "TypeError",
     "evalue": "'tuple' object does not support item assignment",
     "output_type": "error",
     "traceback": [
      "\u001b[0;31m---------------------------------------------------------------------------\u001b[0m",
      "\u001b[0;31mTypeError\u001b[0m                                 Traceback (most recent call last)",
      "\u001b[0;32m<ipython-input-18-6e5fc4c1fe4b>\u001b[0m in \u001b[0;36m<module>\u001b[0;34m()\u001b[0m\n\u001b[0;32m----> 1\u001b[0;31m \u001b[0mt\u001b[0m\u001b[0;34m[\u001b[0m\u001b[0;36m0\u001b[0m\u001b[0;34m]\u001b[0m \u001b[0;34m=\u001b[0m \u001b[0;36m0\u001b[0m\u001b[0;34m\u001b[0m\u001b[0m\n\u001b[0m",
      "\u001b[0;31mTypeError\u001b[0m: 'tuple' object does not support item assignment"
     ]
    }
   ],
   "source": [
    "t[0] = 0"
   ]
  },
  {
   "cell_type": "markdown",
   "metadata": {},
   "source": [
    "Кортежи используются не так часто, потому что их функционал полностью представлен в списках. Обычно они используются, когда нужно убедиться, что содержащиеся в них элементы не изменятся в ходе выполнение программы."
   ]
  },
  {
   "cell_type": "markdown",
   "metadata": {},
   "source": [
    "## 6. Ассоциативные списки (Dictionary)\n",
    "В некоторых случаях бывает удобно обращаться к элементам списка не по индексу, а по некоторому *ключу*. Для таких случаев в Python предусмотрены ассоциативные списки (или *словари*), которые состоят из списка пар *\"ключ-значение\"*. Несколько примеров:"
   ]
  },
  {
   "cell_type": "code",
   "execution_count": 19,
   "metadata": {
    "collapsed": true
   },
   "outputs": [],
   "source": [
    "d = dict()  # пустой словарь\n",
    "d2 = {}     # тоже пустой словарь\n",
    "phonebook = dict([('Alex', 12345), ('Lena', 98765), ('Paul', 10101)])\n",
    "phonebook2 = {'Alex': 12345, 'Lena': 98765, 'Paul': 10101}"
   ]
  },
  {
   "cell_type": "code",
   "execution_count": 20,
   "metadata": {},
   "outputs": [
    {
     "name": "stdout",
     "output_type": "stream",
     "text": [
      "{'Lena': 98765, 'Alex': 12345, 'Paul': 10101}\n",
      "{'Lena': 98765, 'Alex': 12345, 'Paul': 10101}\n"
     ]
    }
   ],
   "source": [
    "print(phonebook)\n",
    "print(phonebook2)"
   ]
  },
  {
   "cell_type": "markdown",
   "metadata": {},
   "source": [
    "Теперь можно обращаться к значениям словаря по ключу:"
   ]
  },
  {
   "cell_type": "code",
   "execution_count": 21,
   "metadata": {},
   "outputs": [
    {
     "name": "stdout",
     "output_type": "stream",
     "text": [
      "Alex phone number is: 12345\n",
      "Lena phone number is: 98765\n",
      "Paul phone number is: 10101\n"
     ]
    }
   ],
   "source": [
    "print('{} phone number is: {}'.format('Alex', phonebook['Alex']))\n",
    "print('{} phone number is: {}'.format('Lena', phonebook2['Lena']))\n",
    "print('{} phone number is: {}'.format('Paul', phonebook['Paul']))"
   ]
  },
  {
   "cell_type": "markdown",
   "metadata": {},
   "source": [
    "Значением в словаре могут в принципе быть любые объекты (включая функции, классы, модули и т.п.). Ключом может быть только *хешируемый* тип данных (т.е. такой, для которого существует вычислимая хеш-функция (https://en.wikipedia.org/wiki/Hash_function). Для простоты можно считать, что ключами не могут быть изменяемые объекты (например, списки или другие словари):"
   ]
  },
  {
   "cell_type": "code",
   "execution_count": 22,
   "metadata": {},
   "outputs": [
    {
     "ename": "TypeError",
     "evalue": "unhashable type: 'list'",
     "output_type": "error",
     "traceback": [
      "\u001b[0;31m---------------------------------------------------------------------------\u001b[0m",
      "\u001b[0;31mTypeError\u001b[0m                                 Traceback (most recent call last)",
      "\u001b[0;32m<ipython-input-22-8acc2375a664>\u001b[0m in \u001b[0;36m<module>\u001b[0;34m()\u001b[0m\n\u001b[0;32m----> 1\u001b[0;31m \u001b[0mwrong_d\u001b[0m \u001b[0;34m=\u001b[0m \u001b[0;34m{\u001b[0m\u001b[0;34m[\u001b[0m\u001b[0;36m1\u001b[0m\u001b[0;34m,\u001b[0m \u001b[0;36m2\u001b[0m\u001b[0;34m]\u001b[0m\u001b[0;34m:\u001b[0m \u001b[0;34m[\u001b[0m\u001b[0;36m1\u001b[0m\u001b[0;34m,\u001b[0m \u001b[0;36m2\u001b[0m\u001b[0;34m]\u001b[0m\u001b[0;34m}\u001b[0m\u001b[0;34m\u001b[0m\u001b[0m\n\u001b[0m",
      "\u001b[0;31mTypeError\u001b[0m: unhashable type: 'list'"
     ]
    }
   ],
   "source": [
    "wrong_d = {[1, 2]: [1, 2]}"
   ]
  },
  {
   "cell_type": "code",
   "execution_count": 23,
   "metadata": {
    "scrolled": true
   },
   "outputs": [
    {
     "ename": "TypeError",
     "evalue": "unhashable type: 'dict'",
     "output_type": "error",
     "traceback": [
      "\u001b[0;31m---------------------------------------------------------------------------\u001b[0m",
      "\u001b[0;31mTypeError\u001b[0m                                 Traceback (most recent call last)",
      "\u001b[0;32m<ipython-input-23-915d6f96e8ce>\u001b[0m in \u001b[0;36m<module>\u001b[0;34m()\u001b[0m\n\u001b[0;32m----> 1\u001b[0;31m \u001b[0mwrong_d\u001b[0m \u001b[0;34m=\u001b[0m \u001b[0;34m{\u001b[0m\u001b[0;34m{\u001b[0m\u001b[0;34m'key'\u001b[0m\u001b[0;34m:\u001b[0m \u001b[0;34m'value'\u001b[0m\u001b[0;34m}\u001b[0m\u001b[0;34m:\u001b[0m \u001b[0;34m[\u001b[0m\u001b[0;36m1\u001b[0m\u001b[0;34m,\u001b[0m \u001b[0;36m2\u001b[0m\u001b[0;34m]\u001b[0m\u001b[0;34m}\u001b[0m\u001b[0;34m\u001b[0m\u001b[0m\n\u001b[0m",
      "\u001b[0;31mTypeError\u001b[0m: unhashable type: 'dict'"
     ]
    }
   ],
   "source": [
    "wrong_d = {{'key': 'value'}: [1, 2]}"
   ]
  },
  {
   "cell_type": "markdown",
   "metadata": {},
   "source": [
    "## 7. Вырезки (slice)\n",
    "Вырезка -- специальное выражение, позволяющее получить фрагмент списка, кортежа, строки или им подобных объектов (кроме словарей). В общем случае записывается в виде\n",
    "**start:end:step**,\n",
    "где параметр **start** -- первый индекс (включен в вырезку), **end** -- последний индекс (не включен в вырезку), **step** -- шаг вырезки. У этих параметров есть значения по умолчанию: start = 0, end = длина списка, step = 1. Несколько примеров:"
   ]
  },
  {
   "cell_type": "code",
   "execution_count": 24,
   "metadata": {},
   "outputs": [
    {
     "name": "stdout",
     "output_type": "stream",
     "text": [
      "Исходный список: ['S', 'O', 'M', 'E', 'L', 'I', 'S', 'T']\n",
      "Вырезка по умолчанию: ['S', 'O', 'M', 'E', 'L', 'I', 'S', 'T']\n",
      "Только нечетные индексы: ['O', 'E', 'I', 'T']\n",
      "Только чётные индексы: ['S', 'M', 'L', 'S']\n",
      "Индексы с 1 до 7 с шагом 2: ['O', 'E', 'I']\n",
      "Индексы от 2 до конца с шагом 3: ['M', 'I']\n"
     ]
    }
   ],
   "source": [
    "a = ['S', 'O', 'M', 'E', 'L', 'I', 'S', 'T']\n",
    "print('Исходный список: {}'.format(a))\n",
    "print('Вырезка по умолчанию: {}'.format(a[::]))\n",
    "print('Только нечетные индексы: {}'.format(a[1::2]))\n",
    "print('Только чётные индексы: {}'.format(a[::2]))\n",
    "print('Индексы с 1 до 7 с шагом 2: {}'.format(a[1:7:2]))\n",
    "print('Индексы от 2 до конца с шагом 3: {}'.format(a[2::3]))"
   ]
  },
  {
   "cell_type": "markdown",
   "metadata": {},
   "source": [
    "Генерация вырезки в принципе представляет из себя вычисление арифметической прогрессии. Напомним общую формулу:\n",
    "\n",
    "$$a_i = a_{i-1}+d$$\n",
    "\n",
    "где $$a_i$$ -- очередной член прогрессии, $$a_{i-1}$$ -- предшествующий ему член прогрессии, $$d$$ -- шаг прогрессии."
   ]
  },
  {
   "cell_type": "markdown",
   "metadata": {},
   "source": [
    "Поскольку в Python возможны отрицательные индексы, допустимо создавать вырезки с отрицательными параметрами. Нужно только иметь в виду, что при указании отрицательного шага значения по умолчанию для start и end преобразуются в **-1** и **-N-1** соответственно:"
   ]
  },
  {
   "cell_type": "code",
   "execution_count": 25,
   "metadata": {},
   "outputs": [
    {
     "name": "stdout",
     "output_type": "stream",
     "text": [
      "Исходный список: ['S', 'O', 'M', 'E', 'L', 'I', 'S', 'T']\n",
      "Вырезка по умолчанию с шагом -1: ['T', 'S', 'I', 'L', 'E', 'M', 'O', 'S']\n",
      "Нечётные индексы в обратном порядке: ['T', 'I', 'E', 'O']\n"
     ]
    }
   ],
   "source": [
    "print('Исходный список: {}'.format(a))\n",
    "print('Вырезка по умолчанию с шагом -1: {}'.format(a[::-1]))\n",
    "print('Нечётные индексы в обратном порядке: {}'.format(a[:-9:-2]))"
   ]
  },
  {
   "cell_type": "markdown",
   "metadata": {},
   "source": [
    "Где возможно, Python может преобразовывать отрицательные индексы в соответствующие им положительные и наоборот:"
   ]
  },
  {
   "cell_type": "code",
   "execution_count": 26,
   "metadata": {},
   "outputs": [
    {
     "name": "stdout",
     "output_type": "stream",
     "text": [
      " S  O  M  E  L  I  S  T   (элементы в списке)\n",
      " 0  1  2  3  4  5  6  7   (положительные индексы)\n",
      "-8 -7 -6 -5 -4 -3 -2 -1   (отрицательные индексы)\n"
     ]
    }
   ],
   "source": [
    "print_inds_pretty(a)"
   ]
  },
  {
   "cell_type": "code",
   "execution_count": 27,
   "metadata": {},
   "outputs": [
    {
     "name": "stdout",
     "output_type": "stream",
     "text": [
      "['S', 'O', 'M', 'E', 'L']\n",
      "['I', 'S', 'T']\n",
      "['T', 'S']\n",
      "['I', 'L', 'E', 'M', 'O', 'S']\n"
     ]
    }
   ],
   "source": [
    "print(a[:-3:])   # -3 преобразуется в 5 (конец вырезки), шаг равен 1\n",
    "print(a[-3::])   # тот же пример, только теперь -3 это начало вырезки\n",
    "print(a[:5:-1])  # 5 преобразуется в -3 (конец вырезки), шаг равен -1\n",
    "print(a[5::-1])  # тот же пример, только теперь 5 это начало вырезки"
   ]
  },
  {
   "cell_type": "markdown",
   "metadata": {},
   "source": [
    "Следует понимать, что при генерации вырезки Python не будет распространять её через границы списка. К этому аспекту следует относиться внимательно, т.к. в результате могу получаться пустые списки:"
   ]
  },
  {
   "cell_type": "code",
   "execution_count": 28,
   "metadata": {},
   "outputs": [
    {
     "name": "stdout",
     "output_type": "stream",
     "text": [
      "[]\n",
      "[]\n"
     ]
    }
   ],
   "source": [
    "print(a[-3:4:])\n",
    "print(a[1:-3:-1])"
   ]
  },
  {
   "cell_type": "markdown",
   "metadata": {},
   "source": [
    "## 8. Некоторые функции над списками"
   ]
  },
  {
   "cell_type": "code",
   "execution_count": 29,
   "metadata": {},
   "outputs": [
    {
     "name": "stdout",
     "output_type": "stream",
     "text": [
      "['one', 'two', 'three']\n",
      "2\n",
      "['one', 'two', 'three', 'four']\n",
      "['zero', 'one', 'two', 'three', 'four']\n",
      "['zero', 'one', 'two', 'three', 'four', 'five', 'six']\n",
      "['zero', 'one', 'two', 'three', 'four', 'five']\n",
      "['zero', 'one', 'two', 'three', 'four']\n",
      "Длина списка = 5\n"
     ]
    }
   ],
   "source": [
    "a = ['one', 'two', 'three']\n",
    "print(a)\n",
    "print(a.index('three'))    # индекс элемента\n",
    "a.append('four')           # добавить элемент в конец списка\n",
    "print(a)\n",
    "a.insert(0, 'zero')        # вставить элемент по индексу\n",
    "print(a)\n",
    "a.extend(['five', 'six'])  # вставить в конце другой список\n",
    "print(a)\n",
    "a.remove('six')            # удалить определённый элемент\n",
    "print(a)\n",
    "a.pop(-1)                  # удалить элемент по индексу\n",
    "print(a)\n",
    "n = len(a)                 # длина списка\n",
    "print('Длина списка = {}'.format(n))"
   ]
  },
  {
   "cell_type": "markdown",
   "metadata": {},
   "source": [
    "## 9. Условные выражения (if-elif-else)\n",
    "Условные выражения позволяют управлять ходом управления программы в зависимости от определённых условий. Условное выражение начинается с ключевого слова if, после которого могут следовать несколько ключевых слов elif, в конце может следовать ключевое слово else. Например:"
   ]
  },
  {
   "cell_type": "code",
   "execution_count": 30,
   "metadata": {},
   "outputs": [
    {
     "name": "stdout",
     "output_type": "stream",
     "text": [
      "one is in a\n"
     ]
    }
   ],
   "source": [
    "a = ['one', 'two', 'three']\n",
    "if 'one' in a:\n",
    "    print('one is in a')\n",
    "elif 'two' in a:\n",
    "    print('one not in a, but two is in a')\n",
    "elif 'three' in a:\n",
    "    print('nor one nor two in a, but three is in a')\n",
    "else:\n",
    "    print('nor one nor two nor three are in a')"
   ]
  },
  {
   "cell_type": "markdown",
   "metadata": {},
   "source": [
    "Следует обратить внимание на то, что в Python нет операторов begin/end или фигурных скобок, служащих границами отдельных блоков вычислений в других популярных языках программирования (Pascal, C++, Java и т.д.), поэтому для обозначения блоков вычислений следует пользоваться отступами (indent). По умолчанию один отступ равен 4 пробелам. Многие редакторы кода позволяют поменять это значение и обычно автоматически расставляют отступы по мере написания кода (Sublime, PyCharm, Atom и т.д.)."
   ]
  },
  {
   "cell_type": "markdown",
   "metadata": {},
   "source": [
    "В случае небольших выражений удобно использовать так называемую тернарную форму условного выражения:"
   ]
  },
  {
   "cell_type": "code",
   "execution_count": 31,
   "metadata": {},
   "outputs": [
    {
     "name": "stdout",
     "output_type": "stream",
     "text": [
      "True\n"
     ]
    }
   ],
   "source": [
    "res = True if 2 > 1 else False\n",
    "print(res)"
   ]
  },
  {
   "cell_type": "markdown",
   "metadata": {},
   "source": [
    "## 10. Дополнительные материалы\n",
    "Разобранный материал примерно сответствует главам книги \"A byte of Python\":\n",
    "- Основы (7)\n",
    "- Операторы и выражения (8)\n",
    "- Поток команд/оператор **if** (9)\n",
    "- Структуры данных (12)"
   ]
  },
  {
   "cell_type": "code",
   "execution_count": null,
   "metadata": {
    "collapsed": true
   },
   "outputs": [],
   "source": []
  }
 ],
 "metadata": {
  "kernelspec": {
   "display_name": "Python 2",
   "language": "python",
   "name": "python2"
  },
  "language_info": {
   "codemirror_mode": {
    "name": "ipython",
    "version": 2
   },
   "file_extension": ".py",
   "mimetype": "text/x-python",
   "name": "python",
   "nbconvert_exporter": "python",
   "pygments_lexer": "ipython2",
   "version": "2.7.13"
  }
 },
 "nbformat": 4,
 "nbformat_minor": 2
}
