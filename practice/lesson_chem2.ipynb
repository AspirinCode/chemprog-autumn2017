{
 "cells": [
  {
   "cell_type": "markdown",
   "metadata": {},
   "source": [
    "# Алгоритмы в хемоинформатике, второе занятие\n",
    "1. Введение (rdkit, Chem, Mol)\n",
    "2. Создание молекул\n",
    "3. Сохранение молекул\n",
    "4. Задачи\n",
    "5. Дополнительные материалы"
   ]
  },
  {
   "cell_type": "markdown",
   "metadata": {},
   "source": [
    "## 1. Введение"
   ]
  },
  {
   "cell_type": "markdown",
   "metadata": {},
   "source": [
    "Rational design kit (**rdkit**) -- открытая библиотека для решения хемоинформатических задач, доступная, в частности, на Python. Автор -- Greg Landrum (https://github.com/greglandrum)."
   ]
  },
  {
   "cell_type": "markdown",
   "metadata": {},
   "source": [
    "Начнем изучение с модуля **Chem**, который содержит базовый функционал для работы с молекулами."
   ]
  },
  {
   "cell_type": "code",
   "execution_count": 1,
   "metadata": {
    "collapsed": true
   },
   "outputs": [],
   "source": [
    "from rdkit import Chem"
   ]
  },
  {
   "cell_type": "markdown",
   "metadata": {},
   "source": [
    "Один из основных классов -- класс **Mol**, с помощью которого можно создавать представления молекул. Создадим пустой объект этого класса:"
   ]
  },
  {
   "cell_type": "code",
   "execution_count": 2,
   "metadata": {
    "collapsed": true
   },
   "outputs": [],
   "source": [
    "empty_molecule = Chem.Mol()"
   ]
  },
  {
   "cell_type": "markdown",
   "metadata": {},
   "source": [
    "Взглянем на публичные атрибуты объекта:"
   ]
  },
  {
   "cell_type": "code",
   "execution_count": 3,
   "metadata": {},
   "outputs": [
    {
     "name": "stdout",
     "output_type": "stream",
     "text": [
      "AddConformer, ClearComputedProps, ClearProp, Debug, GetAromaticAtoms, GetAtomWithIdx, GetAtoms, GetAtomsMatchingQuery, GetBondBetweenAtoms, GetBondWithIdx, GetBonds, GetBoolProp, GetConformer, GetConformers, GetDoubleProp, GetIntProp, GetNumAtoms, GetNumBonds, GetNumConformers, GetNumHeavyAtoms, GetProp, GetPropNames, GetPropsAsDict, GetRingInfo, GetSubstructMatch, GetSubstructMatches, GetUnsignedProp, HasProp, HasSubstructMatch, NeedsUpdatePropertyCache, RemoveAllConformers, RemoveConformer, SetBoolProp, SetDoubleProp, SetIntProp, SetProp, SetUnsignedProp, ToBinary, UpdatePropertyCache\n"
     ]
    }
   ],
   "source": [
    "print(', '.join(filter(lambda x: not x.startswith('_'), dir(empty_molecule))))"
   ]
  },
  {
   "cell_type": "markdown",
   "metadata": {},
   "source": [
    "Вызывать какие-либо функции на пустой молекуле нет смысла, поэтому посмотим, как можно создавать молекулы из каких-нибудь представлений."
   ]
  },
  {
   "cell_type": "markdown",
   "metadata": {},
   "source": [
    "## 2. Создание молекул"
   ]
  },
  {
   "cell_type": "markdown",
   "metadata": {},
   "source": [
    "В модуле **Chem** есть функции для создания объектов молекул из множества представлений:"
   ]
  },
  {
   "cell_type": "code",
   "execution_count": 4,
   "metadata": {},
   "outputs": [
    {
     "name": "stdout",
     "output_type": "stream",
     "text": [
      "MolFromFASTA, MolFromHELM, MolFromInchi, MolFromMol2Block, MolFromMol2File, MolFromMolBlock, MolFromMolFile, MolFromPDBBlock, MolFromPDBFile, MolFromSequence, MolFromSmarts, MolFromSmiles, MolFromTPLBlock, MolFromTPLFile\n"
     ]
    }
   ],
   "source": [
    "print(', '.join(filter(lambda x: x.startswith('MolFrom'), dir(Chem))))"
   ]
  },
  {
   "cell_type": "code",
   "execution_count": 5,
   "metadata": {
    "collapsed": true
   },
   "outputs": [],
   "source": [
    "aspirin_smiles = 'O=C(C)Oc1ccccc1C(=O)O'\n",
    "aspirin = Chem.MolFromSmiles(aspirin_smiles)"
   ]
  },
  {
   "cell_type": "code",
   "execution_count": 6,
   "metadata": {
    "collapsed": true
   },
   "outputs": [],
   "source": [
    "atoms = list(aspirin.GetAtoms())              # список атомов\n",
    "bonds = list(aspirin.GetBonds())              # список связей\n",
    "ar_atoms = list(aspirin.GetAromaticAtoms())   # список ароматических атомов\n",
    "first_atom = aspirin.GetAtomWithIdx(0)        # атом по индексу\n",
    "first_bond = aspirin.GetBondWithIdx(0)        # связь по индексу\n",
    "bond_0_1 = aspirin.GetBondBetweenAtoms(0, 1)  # связь между атомами"
   ]
  },
  {
   "cell_type": "markdown",
   "metadata": {},
   "source": [
    "Публичные атрибуты атома:"
   ]
  },
  {
   "cell_type": "code",
   "execution_count": 7,
   "metadata": {},
   "outputs": [
    {
     "name": "stdout",
     "output_type": "stream",
     "text": [
      "ClearProp, DescribeQuery, GetAtomMapNum, GetAtomicNum, GetBonds, GetBoolProp, GetChiralTag, GetDegree, GetDoubleProp, GetExplicitValence, GetFormalCharge, GetHybridization, GetIdx, GetImplicitValence, GetIntProp, GetIsAromatic, GetIsotope, GetMass, GetMonomerInfo, GetNeighbors, GetNoImplicit, GetNumExplicitHs, GetNumImplicitHs, GetNumRadicalElectrons, GetOwningMol, GetPDBResidueInfo, GetProp, GetPropNames, GetPropsAsDict, GetSmarts, GetSymbol, GetTotalDegree, GetTotalNumHs, GetTotalValence, GetUnsignedProp, HasProp, HasQuery, InvertChirality, IsInRing, IsInRingSize, Match, NeedsUpdatePropertyCache, SetAtomMapNum, SetAtomicNum, SetBoolProp, SetChiralTag, SetDoubleProp, SetFormalCharge, SetHybridization, SetIntProp, SetIsAromatic, SetIsotope, SetMonomerInfo, SetNoImplicit, SetNumExplicitHs, SetNumRadicalElectrons, SetProp, SetUnsignedProp, UpdatePropertyCache\n"
     ]
    }
   ],
   "source": [
    "print(', '.join(filter(lambda x: not x.startswith('_'), dir(first_atom))))"
   ]
  },
  {
   "cell_type": "markdown",
   "metadata": {},
   "source": [
    "Публичные атрибуты связи:"
   ]
  },
  {
   "cell_type": "code",
   "execution_count": 8,
   "metadata": {},
   "outputs": [
    {
     "name": "stdout",
     "output_type": "stream",
     "text": [
      "ClearProp, DescribeQuery, GetBeginAtom, GetBeginAtomIdx, GetBondDir, GetBondType, GetBondTypeAsDouble, GetBoolProp, GetDoubleProp, GetEndAtom, GetEndAtomIdx, GetIdx, GetIntProp, GetIsAromatic, GetIsConjugated, GetOtherAtom, GetOtherAtomIdx, GetOwningMol, GetProp, GetPropNames, GetPropsAsDict, GetSmarts, GetStereo, GetStereoAtoms, GetUnsignedProp, GetValenceContrib, HasProp, HasQuery, IsInRing, IsInRingSize, Match, SetBondDir, SetBondType, SetBoolProp, SetDoubleProp, SetIntProp, SetIsAromatic, SetIsConjugated, SetProp, SetStereo, SetStereoAtoms, SetUnsignedProp\n"
     ]
    }
   ],
   "source": [
    "print(', '.join(filter(lambda x: not x.startswith('_'), dir(first_bond))))"
   ]
  },
  {
   "cell_type": "code",
   "execution_count": 9,
   "metadata": {},
   "outputs": [
    {
     "name": "stdout",
     "output_type": "stream",
     "text": [
      "First atom details.\n",
      "\tSymbol: O\n",
      "\tIndex: 0\n",
      "\tAtomic number: 8\n",
      "\tDegree: 1\n",
      "\tMass: 15.999\n",
      "\tCharge: 0\n",
      "\tIs aromatic? False\n",
      "\tTotal valence: 2\n",
      "\tExplicit valence: 2\n",
      "\tImplicit valence: 0\n"
     ]
    }
   ],
   "source": [
    "print('First atom details.')\n",
    "print('\\tSymbol: {}'.format(first_atom.GetSymbol()))\n",
    "print('\\tIndex: {}'.format(first_atom.GetIdx()))\n",
    "print('\\tAtomic number: {}'.format(first_atom.GetAtomicNum()))\n",
    "print('\\tDegree: {}'.format(first_atom.GetDegree()))\n",
    "print('\\tMass: {}'.format(first_atom.GetMass()))\n",
    "print('\\tCharge: {}'.format(first_atom.GetFormalCharge()))\n",
    "print('\\tIs aromatic? {}'.format(first_atom.GetIsAromatic()))\n",
    "print('\\tTotal valence: {}'.format(first_atom.GetTotalValence()))\n",
    "print('\\tExplicit valence: {}'.format(first_atom.GetExplicitValence()))\n",
    "print('\\tImplicit valence: {}'.format(first_atom.GetImplicitValence()))"
   ]
  },
  {
   "cell_type": "code",
   "execution_count": 10,
   "metadata": {},
   "outputs": [
    {
     "name": "stdout",
     "output_type": "stream",
     "text": [
      "First bond details.\n",
      "\tBegin atom symbol: O\n",
      "\tEnd atom symbol: C\n",
      "\tBond type: DOUBLE\n",
      "\tIs bond in ring? False\n"
     ]
    }
   ],
   "source": [
    "print('First bond details.')\n",
    "print('\\tBegin atom symbol: {}'.format(first_bond.GetBeginAtom().GetSymbol()))\n",
    "print('\\tEnd atom symbol: {}'.format(first_bond.GetEndAtom().GetSymbol()))\n",
    "print('\\tBond type: {}'.format(first_bond.GetBondType()))\n",
    "print('\\tIs bond in ring? {}'.format(first_bond.IsInRing()))"
   ]
  },
  {
   "cell_type": "markdown",
   "metadata": {},
   "source": [
    "Эту же молекулу (https://en.wikipedia.org/wiki/Aspirin) можно создать из представления **InChi**:"
   ]
  },
  {
   "cell_type": "code",
   "execution_count": 11,
   "metadata": {
    "collapsed": true
   },
   "outputs": [],
   "source": [
    "aspirin_inchi = 'InChI=1S/C9H8O4/c1-6(10)13-8-5-3-2-4-7(8)9(11)12/h2-5H,1H3,(H,11,12)'\n",
    "aspirin2 = Chem.MolFromInchi(aspirin_inchi)"
   ]
  },
  {
   "cell_type": "markdown",
   "metadata": {},
   "source": [
    "## 3. Сохранение молекул"
   ]
  },
  {
   "cell_type": "markdown",
   "metadata": {},
   "source": [
    "Аналогично созданию молекул из некоторого представления, можно получать представление молекул. В модуле **Chem** для этого есть множество функций:"
   ]
  },
  {
   "cell_type": "code",
   "execution_count": 12,
   "metadata": {},
   "outputs": [
    {
     "name": "stdout",
     "output_type": "stream",
     "text": [
      "MolToFASTA, MolToHELM, MolToInchi, MolToInchiAndAuxInfo, MolToMolBlock, MolToMolFile, MolToPDBBlock, MolToPDBFile, MolToSVG, MolToSequence, MolToSmarts, MolToSmiles, MolToTPLBlock, MolToTPLFile\n"
     ]
    }
   ],
   "source": [
    "print(', '.join(filter(lambda x: x.startswith('MolTo'), dir(Chem))))"
   ]
  },
  {
   "cell_type": "code",
   "execution_count": 13,
   "metadata": {},
   "outputs": [
    {
     "name": "stdout",
     "output_type": "stream",
     "text": [
      "Aspirin (SMILES): CC(=O)Oc1ccccc1C(=O)O\n",
      "Aspirin (InChi): InChI=1S/C9H8O4/c1-6(10)13-8-5-3-2-4-7(8)9(11)12/h2-5H,1H3,(H,11,12)\n",
      "True\n"
     ]
    }
   ],
   "source": [
    "print('Aspirin (SMILES): {}'.format(Chem.MolToSmiles(aspirin)))\n",
    "print('Aspirin (InChi): {}'.format(Chem.MolToInchi(aspirin)))\n",
    "print(Chem.MolToInchi(aspirin) == aspirin_inchi)"
   ]
  },
  {
   "cell_type": "markdown",
   "metadata": {},
   "source": [
    "Попробуем получить представление молекулы в виде таблицы связей:"
   ]
  },
  {
   "cell_type": "code",
   "execution_count": 14,
   "metadata": {},
   "outputs": [
    {
     "name": "stdout",
     "output_type": "stream",
     "text": [
      "\n",
      "     RDKit          \n",
      "\n",
      " 13 13  0  0  0  0  0  0  0  0999 V2000\n",
      "    0.0000    0.0000    0.0000 O   0  0  0  0  0  0  0  0  0  0  0  0\n",
      "    0.0000    0.0000    0.0000 C   0  0  0  0  0  0  0  0  0  0  0  0\n",
      "    0.0000    0.0000    0.0000 C   0  0  0  0  0  0  0  0  0  0  0  0\n",
      "    0.0000    0.0000    0.0000 O   0  0  0  0  0  0  0  0  0  0  0  0\n",
      "    0.0000    0.0000    0.0000 C   0  0  0  0  0  0  0  0  0  0  0  0\n",
      "    0.0000    0.0000    0.0000 C   0  0  0  0  0  0  0  0  0  0  0  0\n",
      "    0.0000    0.0000    0.0000 C   0  0  0  0  0  0  0  0  0  0  0  0\n",
      "    0.0000    0.0000    0.0000 C   0  0  0  0  0  0  0  0  0  0  0  0\n",
      "    0.0000    0.0000    0.0000 C   0  0  0  0  0  0  0  0  0  0  0  0\n",
      "    0.0000    0.0000    0.0000 C   0  0  0  0  0  0  0  0  0  0  0  0\n",
      "    0.0000    0.0000    0.0000 C   0  0  0  0  0  0  0  0  0  0  0  0\n",
      "    0.0000    0.0000    0.0000 O   0  0  0  0  0  0  0  0  0  0  0  0\n",
      "    0.0000    0.0000    0.0000 O   0  0  0  0  0  0  0  0  0  0  0  0\n",
      "  1  2  2  0\n",
      "  2  3  1  0\n",
      "  2  4  1  0\n",
      "  4  5  1  0\n",
      "  5  6  2  0\n",
      "  6  7  1  0\n",
      "  7  8  2  0\n",
      "  8  9  1  0\n",
      "  9 10  2  0\n",
      " 10 11  1  0\n",
      " 11 12  2  0\n",
      " 11 13  1  0\n",
      " 10  5  1  0\n",
      "M  END\n",
      "\n"
     ]
    }
   ],
   "source": [
    "conn_table = Chem.MolToMolBlock(aspirin)\n",
    "print(conn_table)"
   ]
  },
  {
   "cell_type": "markdown",
   "metadata": {},
   "source": [
    "Все координаты равны 0. Чтобы вычислить координаты, нужно использовать модуль **AllChem**, который предоставляет больше функционала, чем модуль **Chem**:"
   ]
  },
  {
   "cell_type": "code",
   "execution_count": 15,
   "metadata": {
    "collapsed": true
   },
   "outputs": [],
   "source": [
    "from rdkit.Chem import AllChem"
   ]
  },
  {
   "cell_type": "code",
   "execution_count": 16,
   "metadata": {},
   "outputs": [
    {
     "name": "stdout",
     "output_type": "stream",
     "text": [
      "\n",
      "     RDKit          2D\n",
      "\n",
      " 13 13  0  0  0  0  0  0  0  0999 V2000\n",
      "   -3.0122    1.1850    0.0000 O   0  0  0  0  0  0  0  0  0  0  0  0\n",
      "   -2.6987   -0.2818    0.0000 C   0  0  0  0  0  0  0  0  0  0  0  0\n",
      "   -3.8123   -1.2868    0.0000 C   0  0  0  0  0  0  0  0  0  0  0  0\n",
      "   -1.2716   -0.7438    0.0000 O   0  0  0  0  0  0  0  0  0  0  0  0\n",
      "   -0.1580    0.2612    0.0000 C   0  0  0  0  0  0  0  0  0  0  0  0\n",
      "   -0.4715    1.7281    0.0000 C   0  0  0  0  0  0  0  0  0  0  0  0\n",
      "    0.6420    2.7330    0.0000 C   0  0  0  0  0  0  0  0  0  0  0  0\n",
      "    2.0691    2.2711    0.0000 C   0  0  0  0  0  0  0  0  0  0  0  0\n",
      "    2.3827    0.8043    0.0000 C   0  0  0  0  0  0  0  0  0  0  0  0\n",
      "    1.2691   -0.2007    0.0000 C   0  0  0  0  0  0  0  0  0  0  0  0\n",
      "    1.5826   -1.6676    0.0000 C   0  0  0  0  0  0  0  0  0  0  0  0\n",
      "    3.0097   -2.1295    0.0000 O   0  0  0  0  0  0  0  0  0  0  0  0\n",
      "    0.4690   -2.6725    0.0000 O   0  0  0  0  0  0  0  0  0  0  0  0\n",
      "  1  2  2  0\n",
      "  2  3  1  0\n",
      "  2  4  1  0\n",
      "  4  5  1  0\n",
      "  5  6  2  0\n",
      "  6  7  1  0\n",
      "  7  8  2  0\n",
      "  8  9  1  0\n",
      "  9 10  2  0\n",
      " 10 11  1  0\n",
      " 11 12  2  0\n",
      " 11 13  1  0\n",
      " 10  5  1  0\n",
      "M  END\n",
      "\n"
     ]
    }
   ],
   "source": [
    "AllChem.Compute2DCoords(aspirin)\n",
    "conn_table2 = Chem.MolToMolBlock(aspirin)\n",
    "print(conn_table2)"
   ]
  },
  {
   "cell_type": "markdown",
   "metadata": {},
   "source": [
    "Молекулу можно сохранить в файл в виде таблицы связей:"
   ]
  },
  {
   "cell_type": "code",
   "execution_count": 17,
   "metadata": {
    "collapsed": true
   },
   "outputs": [],
   "source": [
    "Chem.MolToMolFile(aspirin, 'aspirin.mol')"
   ]
  },
  {
   "cell_type": "markdown",
   "metadata": {},
   "source": [
    "Или в виде изображения (для этого нужен отдельный модуль **Draw**):"
   ]
  },
  {
   "cell_type": "code",
   "execution_count": 18,
   "metadata": {
    "collapsed": true
   },
   "outputs": [],
   "source": [
    "from rdkit.Chem import Draw"
   ]
  },
  {
   "cell_type": "code",
   "execution_count": 19,
   "metadata": {
    "collapsed": true
   },
   "outputs": [],
   "source": [
    "Draw.MolToFile(aspirin, 'aspirin.png')"
   ]
  },
  {
   "cell_type": "markdown",
   "metadata": {},
   "source": [
    "## 4. Задачи"
   ]
  },
  {
   "cell_type": "markdown",
   "metadata": {},
   "source": [
    "1. На прошлом занятии проходили несколько весовых схем для молекулярных графов. Написать две функции, принимающие объект молекулы **rdkit**. Первая функция должна возвращать обобщенную матрицу смежности, вторая функция должна возвращать обобщенную матрицу дистанций (схему весов выбрать из списка ниже).\n",
    "2. Написать функцию, которая принимает объект молекулы **rdkit** и создаёт молекулярный граф **networkx**.\n",
    "\n",
    "*Весовые схемы:*\n",
    "- Atomic number weighting scheme (слайд 20)\n",
    "- Relative electronegativity weighting scheme (слайд 21)\n",
    "- Atomic radius weighing scheme (слайд 22)\n",
    "- Resistance distance (нет на слайдах; в качестве матрицы смежности использовать матрицу Лапласа - https://en.wikipedia.org/wiki/Laplacian_matrix, в качестве матрицы дистанции использовать матрицу https://en.wikipedia.org/wiki/Resistance_distance)"
   ]
  },
  {
   "cell_type": "markdown",
   "metadata": {},
   "source": [
    "## 5. Дополнительные материалы"
   ]
  },
  {
   "cell_type": "markdown",
   "metadata": {},
   "source": [
    "- Документация SMILES: http://www.daylight.com/dayhtml/doc/theory/theory.smiles.html\n",
    "\n",
    "- FAQ по InChi: http://www.inchi-trust.org/technical-faq/\n",
    "\n",
    "- Начало работы с rdkit в Python: http://www.rdkit.org/docs/GettingStartedInPython.html"
   ]
  },
  {
   "cell_type": "code",
   "execution_count": null,
   "metadata": {
    "collapsed": true
   },
   "outputs": [],
   "source": []
  }
 ],
 "metadata": {
  "kernelspec": {
   "display_name": "Python 2",
   "language": "python",
   "name": "python2"
  },
  "language_info": {
   "codemirror_mode": {
    "name": "ipython",
    "version": 2
   },
   "file_extension": ".py",
   "mimetype": "text/x-python",
   "name": "python",
   "nbconvert_exporter": "python",
   "pygments_lexer": "ipython2",
   "version": "2.7.13"
  }
 },
 "nbformat": 4,
 "nbformat_minor": 2
}
